{
 "cells": [
  {
   "metadata": {},
   "cell_type": "markdown",
   "source": [
    "# Countries of the world Analysis\n",
    "\n",
    "#### In this notebook we will analyze the website: [Countries of the World](https://www.scrapethissite.com/pages/simple/)"
   ],
   "id": "16915c25ed89b84c"
  },
  {
   "metadata": {},
   "cell_type": "markdown",
   "source": [
    "#### The first step is to import all the necessary libraries\n",
    "* requests\n",
    "* pandas\n",
    "* BeautifulSoup"
   ],
   "id": "dabccdae78c91655"
  },
  {
   "cell_type": "code",
   "id": "initial_id",
   "metadata": {
    "collapsed": true,
    "ExecuteTime": {
     "end_time": "2024-10-14T17:13:47.584600Z",
     "start_time": "2024-10-14T17:13:47.580532Z"
    }
   },
   "source": [
    "import requests\n",
    "from bs4 import BeautifulSoup\n",
    "import pandas as pd"
   ],
   "outputs": [],
   "execution_count": 37
  },
  {
   "metadata": {},
   "cell_type": "markdown",
   "source": "#### Now, let's fetch the website and make some soup",
   "id": "8e1cc7bad4304f4a"
  },
  {
   "metadata": {
    "ExecuteTime": {
     "end_time": "2024-10-14T17:13:49.248713Z",
     "start_time": "2024-10-14T17:13:47.608557Z"
    }
   },
   "cell_type": "code",
   "source": [
    "url = \"https://www.scrapethissite.com/pages/simple/\"\n",
    "response = requests.get(url).text\n",
    "soup = BeautifulSoup(response, \"html.parser\")"
   ],
   "id": "afa1023de3a12972",
   "outputs": [],
   "execution_count": 38
  },
  {
   "metadata": {},
   "cell_type": "markdown",
   "source": [
    "#### At a quick glance at the website, I know I will have the following columns:\n",
    "- Country name\n",
    "- Capital\n",
    "- Population\n",
    "- Area\n",
    "\n",
    "#### So let's create a dictionary to hold all these values"
   ],
   "id": "9e0b1d7be56097c3"
  },
  {
   "metadata": {
    "ExecuteTime": {
     "end_time": "2024-10-14T17:13:49.358367Z",
     "start_time": "2024-10-14T17:13:49.354277Z"
    }
   },
   "cell_type": "code",
   "source": [
    "country_info = {\n",
    "    \"Country\":[],\n",
    "    \"Capital\":[],\n",
    "    \"Population\":[],\n",
    "    \"Area (km^2)\":[]\n",
    "}"
   ],
   "id": "565109a2c94d0d8d",
   "outputs": [],
   "execution_count": 39
  },
  {
   "metadata": {},
   "cell_type": "markdown",
   "source": "#### With all the basics taken care of, let's scrape the website",
   "id": "3c1f2ef1a2d6e64b"
  },
  {
   "metadata": {
    "ExecuteTime": {
     "end_time": "2024-10-14T17:13:49.517807Z",
     "start_time": "2024-10-14T17:13:49.464014Z"
    }
   },
   "cell_type": "code",
   "source": [
    "# Each country information ar stored in this class\n",
    "items = soup.find_all(class_=\"col-md-4 country\")\n",
    "\n",
    "# Loop to get the country, capita, population, area of each item and store in the dictionary\n",
    "for item in items:\n",
    "    country = item.find(class_=\"country-name\").get_text().strip()\n",
    "    capital = item.find(class_=\"country-capital\").get_text().strip()\n",
    "    population = item.find(class_=\"country-population\").get_text().strip()\n",
    "    area = item.find(class_=\"country-area\" ).get_text().strip()\n",
    "\n",
    "    country_info[\"Country\"].append(country)\n",
    "    country_info[\"Capital\"].append(capital)\n",
    "    country_info[\"Population\"].append(population)\n",
    "    country_info[\"Area (km^2)\"].append(area)\n",
    "\n",
    "# Transform the dictionary into a dataframe\n",
    "df = pd.DataFrame(country_info)\n",
    "df"
   ],
   "id": "3007f8c51e55c012",
   "outputs": [
    {
     "data": {
      "text/plain": [
       "                  Country           Capital Population Area (km^2)\n",
       "0                 Andorra  Andorra la Vella      84000       468.0\n",
       "1    United Arab Emirates         Abu Dhabi    4975593     82880.0\n",
       "2             Afghanistan             Kabul   29121286    647500.0\n",
       "3     Antigua and Barbuda        St. John's      86754       443.0\n",
       "4                Anguilla        The Valley      13254       102.0\n",
       "..                    ...               ...        ...         ...\n",
       "245                 Yemen             Sanaa   23495361    527970.0\n",
       "246               Mayotte         Mamoudzou     159042       374.0\n",
       "247          South Africa          Pretoria   49000000   1219912.0\n",
       "248                Zambia            Lusaka   13460305    752614.0\n",
       "249              Zimbabwe            Harare   11651858    390580.0\n",
       "\n",
       "[250 rows x 4 columns]"
      ],
      "text/html": [
       "<div>\n",
       "<style scoped>\n",
       "    .dataframe tbody tr th:only-of-type {\n",
       "        vertical-align: middle;\n",
       "    }\n",
       "\n",
       "    .dataframe tbody tr th {\n",
       "        vertical-align: top;\n",
       "    }\n",
       "\n",
       "    .dataframe thead th {\n",
       "        text-align: right;\n",
       "    }\n",
       "</style>\n",
       "<table border=\"1\" class=\"dataframe\">\n",
       "  <thead>\n",
       "    <tr style=\"text-align: right;\">\n",
       "      <th></th>\n",
       "      <th>Country</th>\n",
       "      <th>Capital</th>\n",
       "      <th>Population</th>\n",
       "      <th>Area (km^2)</th>\n",
       "    </tr>\n",
       "  </thead>\n",
       "  <tbody>\n",
       "    <tr>\n",
       "      <th>0</th>\n",
       "      <td>Andorra</td>\n",
       "      <td>Andorra la Vella</td>\n",
       "      <td>84000</td>\n",
       "      <td>468.0</td>\n",
       "    </tr>\n",
       "    <tr>\n",
       "      <th>1</th>\n",
       "      <td>United Arab Emirates</td>\n",
       "      <td>Abu Dhabi</td>\n",
       "      <td>4975593</td>\n",
       "      <td>82880.0</td>\n",
       "    </tr>\n",
       "    <tr>\n",
       "      <th>2</th>\n",
       "      <td>Afghanistan</td>\n",
       "      <td>Kabul</td>\n",
       "      <td>29121286</td>\n",
       "      <td>647500.0</td>\n",
       "    </tr>\n",
       "    <tr>\n",
       "      <th>3</th>\n",
       "      <td>Antigua and Barbuda</td>\n",
       "      <td>St. John's</td>\n",
       "      <td>86754</td>\n",
       "      <td>443.0</td>\n",
       "    </tr>\n",
       "    <tr>\n",
       "      <th>4</th>\n",
       "      <td>Anguilla</td>\n",
       "      <td>The Valley</td>\n",
       "      <td>13254</td>\n",
       "      <td>102.0</td>\n",
       "    </tr>\n",
       "    <tr>\n",
       "      <th>...</th>\n",
       "      <td>...</td>\n",
       "      <td>...</td>\n",
       "      <td>...</td>\n",
       "      <td>...</td>\n",
       "    </tr>\n",
       "    <tr>\n",
       "      <th>245</th>\n",
       "      <td>Yemen</td>\n",
       "      <td>Sanaa</td>\n",
       "      <td>23495361</td>\n",
       "      <td>527970.0</td>\n",
       "    </tr>\n",
       "    <tr>\n",
       "      <th>246</th>\n",
       "      <td>Mayotte</td>\n",
       "      <td>Mamoudzou</td>\n",
       "      <td>159042</td>\n",
       "      <td>374.0</td>\n",
       "    </tr>\n",
       "    <tr>\n",
       "      <th>247</th>\n",
       "      <td>South Africa</td>\n",
       "      <td>Pretoria</td>\n",
       "      <td>49000000</td>\n",
       "      <td>1219912.0</td>\n",
       "    </tr>\n",
       "    <tr>\n",
       "      <th>248</th>\n",
       "      <td>Zambia</td>\n",
       "      <td>Lusaka</td>\n",
       "      <td>13460305</td>\n",
       "      <td>752614.0</td>\n",
       "    </tr>\n",
       "    <tr>\n",
       "      <th>249</th>\n",
       "      <td>Zimbabwe</td>\n",
       "      <td>Harare</td>\n",
       "      <td>11651858</td>\n",
       "      <td>390580.0</td>\n",
       "    </tr>\n",
       "  </tbody>\n",
       "</table>\n",
       "<p>250 rows × 4 columns</p>\n",
       "</div>"
      ]
     },
     "execution_count": 40,
     "metadata": {},
     "output_type": "execute_result"
    }
   ],
   "execution_count": 40
  },
  {
   "metadata": {},
   "cell_type": "markdown",
   "source": [
    "### Good! Our dataframe is looking very good! \n",
    "\n",
    "#### Before we do any analysis it is important to use the method .info() to get some insight on the data we will be working on."
   ],
   "id": "b59cc4c3a56fb9d9"
  },
  {
   "metadata": {
    "ExecuteTime": {
     "end_time": "2024-10-14T17:13:49.718132Z",
     "start_time": "2024-10-14T17:13:49.710503Z"
    }
   },
   "cell_type": "code",
   "source": "df.info()",
   "id": "81ad8aa0e9ae6fb2",
   "outputs": [
    {
     "name": "stdout",
     "output_type": "stream",
     "text": [
      "<class 'pandas.core.frame.DataFrame'>\n",
      "RangeIndex: 250 entries, 0 to 249\n",
      "Data columns (total 4 columns):\n",
      " #   Column       Non-Null Count  Dtype \n",
      "---  ------       --------------  ----- \n",
      " 0   Country      250 non-null    object\n",
      " 1   Capital      250 non-null    object\n",
      " 2   Population   250 non-null    object\n",
      " 3   Area (km^2)  250 non-null    object\n",
      "dtypes: object(4)\n",
      "memory usage: 7.9+ KB\n"
     ]
    }
   ],
   "execution_count": 41
  },
  {
   "metadata": {},
   "cell_type": "markdown",
   "source": "#### Hmm, it looks like the column \"Population\" and \"Area\" are strings and not numerical values. Let's change that!",
   "id": "e97ee47a48fb1ca"
  },
  {
   "metadata": {
    "ExecuteTime": {
     "end_time": "2024-10-14T17:13:49.764227Z",
     "start_time": "2024-10-14T17:13:49.759990Z"
    }
   },
   "cell_type": "code",
   "source": [
    "# Converting population to string\n",
    "df[\"Population\"] = df[\"Population\"].astype(int)"
   ],
   "id": "ff27c68c8fbf22bb",
   "outputs": [],
   "execution_count": 42
  },
  {
   "metadata": {},
   "cell_type": "markdown",
   "source": [
    "#### There is another way to accomplish the same steps. \n",
    "#### By using .to_numeric() method it allows us to do more fun things such as convert the data to either integer, float, signed or unsigned. \n",
    "#### But also to deal with error at runtime. For more information: [to_numeric()](https://pandas.pydata.org/docs/reference/api/pandas.to_numeric.html#pandas.to_numeric)"
   ],
   "id": "33e4c1d3668cd4ee"
  },
  {
   "metadata": {
    "ExecuteTime": {
     "end_time": "2024-10-14T17:13:49.856495Z",
     "start_time": "2024-10-14T17:13:49.851270Z"
    }
   },
   "cell_type": "code",
   "source": "df[\"Area (km^2)\"] = pd.to_numeric(df[\"Area (km^2)\"], downcast=\"integer\", errors=\"coerce\")",
   "id": "982ba9785ea640e1",
   "outputs": [],
   "execution_count": 43
  },
  {
   "metadata": {},
   "cell_type": "markdown",
   "source": "#### Let's see how our dataframe looks like now.",
   "id": "4130955bc20844dd"
  },
  {
   "metadata": {
    "ExecuteTime": {
     "end_time": "2024-10-14T17:13:49.978014Z",
     "start_time": "2024-10-14T17:13:49.969597Z"
    }
   },
   "cell_type": "code",
   "source": "df.info()",
   "id": "b83a074b9e533556",
   "outputs": [
    {
     "name": "stdout",
     "output_type": "stream",
     "text": [
      "<class 'pandas.core.frame.DataFrame'>\n",
      "RangeIndex: 250 entries, 0 to 249\n",
      "Data columns (total 4 columns):\n",
      " #   Column       Non-Null Count  Dtype  \n",
      "---  ------       --------------  -----  \n",
      " 0   Country      250 non-null    object \n",
      " 1   Capital      250 non-null    object \n",
      " 2   Population   250 non-null    int64  \n",
      " 3   Area (km^2)  250 non-null    float64\n",
      "dtypes: float64(1), int64(1), object(2)\n",
      "memory usage: 7.9+ KB\n"
     ]
    }
   ],
   "execution_count": 44
  },
  {
   "metadata": {},
   "cell_type": "markdown",
   "source": [
    "#### Note that even though we wanted to change the values to integer, they turned into float and that's because some of the values were float values anyway.\n",
    "\n",
    "#### With the values in the right data type, let's do some analysis now."
   ],
   "id": "33c0eeae1adfd708"
  },
  {
   "metadata": {},
   "cell_type": "markdown",
   "source": "## Analysis",
   "id": "ef2c4c450a30a83"
  },
  {
   "metadata": {},
   "cell_type": "markdown",
   "source": "#### Country with the largest population",
   "id": "fccf8e1cf02cb044"
  },
  {
   "metadata": {
    "ExecuteTime": {
     "end_time": "2024-10-14T17:13:50.096615Z",
     "start_time": "2024-10-14T17:13:50.088087Z"
    }
   },
   "cell_type": "code",
   "source": [
    "largest_pop = df[\"Population\"].idxmax()\n",
    "df.iloc[largest_pop]\n"
   ],
   "id": "3d9d130ec028b907",
   "outputs": [
    {
     "data": {
      "text/plain": [
       "Country             China\n",
       "Capital           Beijing\n",
       "Population     1330044000\n",
       "Area (km^2)     9596960.0\n",
       "Name: 47, dtype: object"
      ]
     },
     "execution_count": 45,
     "metadata": {},
     "output_type": "execute_result"
    }
   ],
   "execution_count": 45
  },
  {
   "metadata": {},
   "cell_type": "markdown",
   "source": "#### Country with the largest land area",
   "id": "8530a52e134ddd50"
  },
  {
   "metadata": {
    "ExecuteTime": {
     "end_time": "2024-10-14T17:13:50.276622Z",
     "start_time": "2024-10-14T17:13:50.268243Z"
    }
   },
   "cell_type": "code",
   "source": [
    "largest_area = df[\"Area (km^2)\"].idxmax()\n",
    "df.iloc[largest_area]"
   ],
   "id": "e5b627367ef5c1af",
   "outputs": [
    {
     "data": {
      "text/plain": [
       "Country            Russia\n",
       "Capital            Moscow\n",
       "Population      140702000\n",
       "Area (km^2)    17100000.0\n",
       "Name: 190, dtype: object"
      ]
     },
     "execution_count": 46,
     "metadata": {},
     "output_type": "execute_result"
    }
   ],
   "execution_count": 46
  },
  {
   "metadata": {},
   "cell_type": "markdown",
   "source": "#### Top 10 largest countries by population",
   "id": "bf8d6e88d847b804"
  },
  {
   "metadata": {
    "ExecuteTime": {
     "end_time": "2024-10-14T17:13:50.398181Z",
     "start_time": "2024-10-14T17:13:50.387152Z"
    }
   },
   "cell_type": "code",
   "source": [
    "largest_country_pop = df.sort_values(by=[\"Population\"], ascending=False)\n",
    "largest_country_pop.head(10)"
   ],
   "id": "e07a59a41ec0aba9",
   "outputs": [
    {
     "data": {
      "text/plain": [
       "           Country     Capital  Population  Area (km^2)\n",
       "47           China     Beijing  1330044000    9596960.0\n",
       "104          India   New Delhi  1173108018    3287590.0\n",
       "232  United States  Washington   310232863    9629091.0\n",
       "100      Indonesia     Jakarta   242968342    1919440.0\n",
       "30          Brazil    Brasília   201103330    8511965.0\n",
       "177       Pakistan   Islamabad   184404791     803940.0\n",
       "18      Bangladesh       Dhaka   156118464     144000.0\n",
       "163        Nigeria       Abuja   154000000     923768.0\n",
       "190         Russia      Moscow   140702000   17100000.0\n",
       "113          Japan       Tokyo   127288000     377835.0"
      ],
      "text/html": [
       "<div>\n",
       "<style scoped>\n",
       "    .dataframe tbody tr th:only-of-type {\n",
       "        vertical-align: middle;\n",
       "    }\n",
       "\n",
       "    .dataframe tbody tr th {\n",
       "        vertical-align: top;\n",
       "    }\n",
       "\n",
       "    .dataframe thead th {\n",
       "        text-align: right;\n",
       "    }\n",
       "</style>\n",
       "<table border=\"1\" class=\"dataframe\">\n",
       "  <thead>\n",
       "    <tr style=\"text-align: right;\">\n",
       "      <th></th>\n",
       "      <th>Country</th>\n",
       "      <th>Capital</th>\n",
       "      <th>Population</th>\n",
       "      <th>Area (km^2)</th>\n",
       "    </tr>\n",
       "  </thead>\n",
       "  <tbody>\n",
       "    <tr>\n",
       "      <th>47</th>\n",
       "      <td>China</td>\n",
       "      <td>Beijing</td>\n",
       "      <td>1330044000</td>\n",
       "      <td>9596960.0</td>\n",
       "    </tr>\n",
       "    <tr>\n",
       "      <th>104</th>\n",
       "      <td>India</td>\n",
       "      <td>New Delhi</td>\n",
       "      <td>1173108018</td>\n",
       "      <td>3287590.0</td>\n",
       "    </tr>\n",
       "    <tr>\n",
       "      <th>232</th>\n",
       "      <td>United States</td>\n",
       "      <td>Washington</td>\n",
       "      <td>310232863</td>\n",
       "      <td>9629091.0</td>\n",
       "    </tr>\n",
       "    <tr>\n",
       "      <th>100</th>\n",
       "      <td>Indonesia</td>\n",
       "      <td>Jakarta</td>\n",
       "      <td>242968342</td>\n",
       "      <td>1919440.0</td>\n",
       "    </tr>\n",
       "    <tr>\n",
       "      <th>30</th>\n",
       "      <td>Brazil</td>\n",
       "      <td>Brasília</td>\n",
       "      <td>201103330</td>\n",
       "      <td>8511965.0</td>\n",
       "    </tr>\n",
       "    <tr>\n",
       "      <th>177</th>\n",
       "      <td>Pakistan</td>\n",
       "      <td>Islamabad</td>\n",
       "      <td>184404791</td>\n",
       "      <td>803940.0</td>\n",
       "    </tr>\n",
       "    <tr>\n",
       "      <th>18</th>\n",
       "      <td>Bangladesh</td>\n",
       "      <td>Dhaka</td>\n",
       "      <td>156118464</td>\n",
       "      <td>144000.0</td>\n",
       "    </tr>\n",
       "    <tr>\n",
       "      <th>163</th>\n",
       "      <td>Nigeria</td>\n",
       "      <td>Abuja</td>\n",
       "      <td>154000000</td>\n",
       "      <td>923768.0</td>\n",
       "    </tr>\n",
       "    <tr>\n",
       "      <th>190</th>\n",
       "      <td>Russia</td>\n",
       "      <td>Moscow</td>\n",
       "      <td>140702000</td>\n",
       "      <td>17100000.0</td>\n",
       "    </tr>\n",
       "    <tr>\n",
       "      <th>113</th>\n",
       "      <td>Japan</td>\n",
       "      <td>Tokyo</td>\n",
       "      <td>127288000</td>\n",
       "      <td>377835.0</td>\n",
       "    </tr>\n",
       "  </tbody>\n",
       "</table>\n",
       "</div>"
      ]
     },
     "execution_count": 47,
     "metadata": {},
     "output_type": "execute_result"
    }
   ],
   "execution_count": 47
  },
  {
   "metadata": {},
   "cell_type": "markdown",
   "source": "### Top largest countries by area",
   "id": "bb60b19774e1ff90"
  },
  {
   "metadata": {
    "ExecuteTime": {
     "end_time": "2024-10-14T17:13:50.672291Z",
     "start_time": "2024-10-14T17:13:50.661751Z"
    }
   },
   "cell_type": "code",
   "source": [
    "largest_country_pop = df.sort_values(by=[\"Area (km^2)\"], ascending=False)\n",
    "largest_country_pop.head(10)"
   ],
   "id": "1b5e12fda6a18011",
   "outputs": [
    {
     "data": {
      "text/plain": [
       "           Country       Capital  Population  Area (km^2)\n",
       "190         Russia        Moscow   140702000   17100000.0\n",
       "8       Antarctica          None           0   14000000.0\n",
       "37          Canada        Ottawa    33679000    9984670.0\n",
       "232  United States    Washington   310232863    9629091.0\n",
       "47           China       Beijing  1330044000    9596960.0\n",
       "30          Brazil      Brasília   201103330    8511965.0\n",
       "12       Australia      Canberra    21515754    7686850.0\n",
       "104          India     New Delhi  1173108018    3287590.0\n",
       "9        Argentina  Buenos Aires    41343201    2766890.0\n",
       "124     Kazakhstan        Astana    15340000    2717300.0"
      ],
      "text/html": [
       "<div>\n",
       "<style scoped>\n",
       "    .dataframe tbody tr th:only-of-type {\n",
       "        vertical-align: middle;\n",
       "    }\n",
       "\n",
       "    .dataframe tbody tr th {\n",
       "        vertical-align: top;\n",
       "    }\n",
       "\n",
       "    .dataframe thead th {\n",
       "        text-align: right;\n",
       "    }\n",
       "</style>\n",
       "<table border=\"1\" class=\"dataframe\">\n",
       "  <thead>\n",
       "    <tr style=\"text-align: right;\">\n",
       "      <th></th>\n",
       "      <th>Country</th>\n",
       "      <th>Capital</th>\n",
       "      <th>Population</th>\n",
       "      <th>Area (km^2)</th>\n",
       "    </tr>\n",
       "  </thead>\n",
       "  <tbody>\n",
       "    <tr>\n",
       "      <th>190</th>\n",
       "      <td>Russia</td>\n",
       "      <td>Moscow</td>\n",
       "      <td>140702000</td>\n",
       "      <td>17100000.0</td>\n",
       "    </tr>\n",
       "    <tr>\n",
       "      <th>8</th>\n",
       "      <td>Antarctica</td>\n",
       "      <td>None</td>\n",
       "      <td>0</td>\n",
       "      <td>14000000.0</td>\n",
       "    </tr>\n",
       "    <tr>\n",
       "      <th>37</th>\n",
       "      <td>Canada</td>\n",
       "      <td>Ottawa</td>\n",
       "      <td>33679000</td>\n",
       "      <td>9984670.0</td>\n",
       "    </tr>\n",
       "    <tr>\n",
       "      <th>232</th>\n",
       "      <td>United States</td>\n",
       "      <td>Washington</td>\n",
       "      <td>310232863</td>\n",
       "      <td>9629091.0</td>\n",
       "    </tr>\n",
       "    <tr>\n",
       "      <th>47</th>\n",
       "      <td>China</td>\n",
       "      <td>Beijing</td>\n",
       "      <td>1330044000</td>\n",
       "      <td>9596960.0</td>\n",
       "    </tr>\n",
       "    <tr>\n",
       "      <th>30</th>\n",
       "      <td>Brazil</td>\n",
       "      <td>Brasília</td>\n",
       "      <td>201103330</td>\n",
       "      <td>8511965.0</td>\n",
       "    </tr>\n",
       "    <tr>\n",
       "      <th>12</th>\n",
       "      <td>Australia</td>\n",
       "      <td>Canberra</td>\n",
       "      <td>21515754</td>\n",
       "      <td>7686850.0</td>\n",
       "    </tr>\n",
       "    <tr>\n",
       "      <th>104</th>\n",
       "      <td>India</td>\n",
       "      <td>New Delhi</td>\n",
       "      <td>1173108018</td>\n",
       "      <td>3287590.0</td>\n",
       "    </tr>\n",
       "    <tr>\n",
       "      <th>9</th>\n",
       "      <td>Argentina</td>\n",
       "      <td>Buenos Aires</td>\n",
       "      <td>41343201</td>\n",
       "      <td>2766890.0</td>\n",
       "    </tr>\n",
       "    <tr>\n",
       "      <th>124</th>\n",
       "      <td>Kazakhstan</td>\n",
       "      <td>Astana</td>\n",
       "      <td>15340000</td>\n",
       "      <td>2717300.0</td>\n",
       "    </tr>\n",
       "  </tbody>\n",
       "</table>\n",
       "</div>"
      ]
     },
     "execution_count": 48,
     "metadata": {},
     "output_type": "execute_result"
    }
   ],
   "execution_count": 48
  },
  {
   "metadata": {},
   "cell_type": "markdown",
   "source": [
    "#### Note that Antarctica showed up here. The website we scraped decided to add it to their list even though Antarctica is not a country, but a continent.\n",
    "\n",
    "#### Let move on to the population. How many people are living in these countries?"
   ],
   "id": "96a79cda0884ba83"
  },
  {
   "metadata": {
    "ExecuteTime": {
     "end_time": "2024-10-14T17:13:50.859730Z",
     "start_time": "2024-10-14T17:13:50.854574Z"
    }
   },
   "cell_type": "code",
   "source": [
    "total_pop = df[\"Population\"].sum()\n",
    "print(f\"Total population: {total_pop:,} people\")"
   ],
   "id": "fd48848aa636b219",
   "outputs": [
    {
     "name": "stdout",
     "output_type": "stream",
     "text": [
      "Total population: 6,861,418,895 people\n"
     ]
    }
   ],
   "execution_count": 49
  },
  {
   "metadata": {},
   "cell_type": "markdown",
   "source": "#### Perhaps we can do the same with the area? How much land do all these countries take of the world?",
   "id": "a1ff1538e859261c"
  },
  {
   "metadata": {
    "ExecuteTime": {
     "end_time": "2024-10-14T17:13:51.059535Z",
     "start_time": "2024-10-14T17:13:51.055472Z"
    }
   },
   "cell_type": "code",
   "source": [
    "total_area = df[\"Area (km^2)\"].sum()\n",
    "print(f\"Total area: {total_area:,} km^2\")"
   ],
   "id": "7f76b4ab8b3c89fc",
   "outputs": [
    {
     "name": "stdout",
     "output_type": "stream",
     "text": [
      "Total area: 149,909,229.69 km^2\n"
     ]
    }
   ],
   "execution_count": 50
  },
  {
   "metadata": {},
   "cell_type": "markdown",
   "source": "#### And last, let's look at another very important method that displays the statistical analysis of our data",
   "id": "1c08efe817de181b"
  },
  {
   "metadata": {
    "ExecuteTime": {
     "end_time": "2024-10-14T17:13:51.164748Z",
     "start_time": "2024-10-14T17:13:51.152979Z"
    }
   },
   "cell_type": "code",
   "source": "df.describe()",
   "id": "76e62641d30c93c6",
   "outputs": [
    {
     "data": {
      "text/plain": [
       "         Population   Area (km^2)\n",
       "count  2.500000e+02  2.500000e+02\n",
       "mean   2.744568e+07  5.996369e+05\n",
       "std    1.168626e+08  1.911821e+06\n",
       "min    0.000000e+00  0.000000e+00\n",
       "25%    1.798562e+05  1.174750e+03\n",
       "50%    4.288138e+06  6.489450e+04\n",
       "75%    1.542062e+07  3.726315e+05\n",
       "max    1.330044e+09  1.710000e+07"
      ],
      "text/html": [
       "<div>\n",
       "<style scoped>\n",
       "    .dataframe tbody tr th:only-of-type {\n",
       "        vertical-align: middle;\n",
       "    }\n",
       "\n",
       "    .dataframe tbody tr th {\n",
       "        vertical-align: top;\n",
       "    }\n",
       "\n",
       "    .dataframe thead th {\n",
       "        text-align: right;\n",
       "    }\n",
       "</style>\n",
       "<table border=\"1\" class=\"dataframe\">\n",
       "  <thead>\n",
       "    <tr style=\"text-align: right;\">\n",
       "      <th></th>\n",
       "      <th>Population</th>\n",
       "      <th>Area (km^2)</th>\n",
       "    </tr>\n",
       "  </thead>\n",
       "  <tbody>\n",
       "    <tr>\n",
       "      <th>count</th>\n",
       "      <td>2.500000e+02</td>\n",
       "      <td>2.500000e+02</td>\n",
       "    </tr>\n",
       "    <tr>\n",
       "      <th>mean</th>\n",
       "      <td>2.744568e+07</td>\n",
       "      <td>5.996369e+05</td>\n",
       "    </tr>\n",
       "    <tr>\n",
       "      <th>std</th>\n",
       "      <td>1.168626e+08</td>\n",
       "      <td>1.911821e+06</td>\n",
       "    </tr>\n",
       "    <tr>\n",
       "      <th>min</th>\n",
       "      <td>0.000000e+00</td>\n",
       "      <td>0.000000e+00</td>\n",
       "    </tr>\n",
       "    <tr>\n",
       "      <th>25%</th>\n",
       "      <td>1.798562e+05</td>\n",
       "      <td>1.174750e+03</td>\n",
       "    </tr>\n",
       "    <tr>\n",
       "      <th>50%</th>\n",
       "      <td>4.288138e+06</td>\n",
       "      <td>6.489450e+04</td>\n",
       "    </tr>\n",
       "    <tr>\n",
       "      <th>75%</th>\n",
       "      <td>1.542062e+07</td>\n",
       "      <td>3.726315e+05</td>\n",
       "    </tr>\n",
       "    <tr>\n",
       "      <th>max</th>\n",
       "      <td>1.330044e+09</td>\n",
       "      <td>1.710000e+07</td>\n",
       "    </tr>\n",
       "  </tbody>\n",
       "</table>\n",
       "</div>"
      ]
     },
     "execution_count": 51,
     "metadata": {},
     "output_type": "execute_result"
    }
   ],
   "execution_count": 51
  }
 ],
 "metadata": {
  "kernelspec": {
   "display_name": "Python 3",
   "language": "python",
   "name": "python3"
  },
  "language_info": {
   "codemirror_mode": {
    "name": "ipython",
    "version": 2
   },
   "file_extension": ".py",
   "mimetype": "text/x-python",
   "name": "python",
   "nbconvert_exporter": "python",
   "pygments_lexer": "ipython2",
   "version": "2.7.6"
  }
 },
 "nbformat": 4,
 "nbformat_minor": 5
}
