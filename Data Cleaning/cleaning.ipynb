{
 "cells": [
  {
   "cell_type": "code",
   "id": "initial_id",
   "metadata": {
    "collapsed": true,
    "ExecuteTime": {
     "end_time": "2025-01-16T18:54:24.519204Z",
     "start_time": "2025-01-16T18:54:24.513692Z"
    }
   },
   "source": [
    "import pandas as pd\n",
    "import numpy as np"
   ],
   "outputs": [],
   "execution_count": 24
  },
  {
   "metadata": {},
   "cell_type": "markdown",
   "source": "## Load the all the data",
   "id": "b3bd3d7d41e923ec"
  },
  {
   "metadata": {
    "ExecuteTime": {
     "end_time": "2025-01-16T18:54:24.557317Z",
     "start_time": "2025-01-16T18:54:24.538281Z"
    }
   },
   "cell_type": "code",
   "source": [
    "df_jobs = pd.read_csv(\"jobs.csv\")\n",
    "df_jobs.rename(columns={\"title\": \"Title\", \"job_location\":\"Location\", \"company_name\":\"Company\", \"job_type\":\"Job_Type\", \"job_salary\":\"Salary\"}, inplace=True)\n",
    "df_jobs[\"Description\"] = np.nan\n",
    "df_jobs.info()"
   ],
   "id": "94d65d0e57c88ac",
   "outputs": [
    {
     "name": "stdout",
     "output_type": "stream",
     "text": [
      "<class 'pandas.core.frame.DataFrame'>\n",
      "RangeIndex: 2966 entries, 0 to 2965\n",
      "Data columns (total 6 columns):\n",
      " #   Column       Non-Null Count  Dtype  \n",
      "---  ------       --------------  -----  \n",
      " 0   Title        2966 non-null   object \n",
      " 1   Location     2966 non-null   object \n",
      " 2   Company      2966 non-null   object \n",
      " 3   Job_Type     2434 non-null   object \n",
      " 4   Salary       1544 non-null   object \n",
      " 5   Description  0 non-null      float64\n",
      "dtypes: float64(1), object(5)\n",
      "memory usage: 139.2+ KB\n"
     ]
    }
   ],
   "execution_count": 25
  },
  {
   "metadata": {
    "ExecuteTime": {
     "end_time": "2025-01-16T18:54:25.182550Z",
     "start_time": "2025-01-16T18:54:24.592565Z"
    }
   },
   "cell_type": "code",
   "source": [
    "df_jobs1 = pd.read_csv(\"jobs1.csv\")\n",
    "df_jobs1.rename(columns={\"title\": \"Title\", \"job_location\":\"Location\", \"company_name\":\"Company\", \"job_type\":\"Job_Type\", \"job_salary\":\"Salary\", \"job_description\":\"Description\"}, inplace=True)\n",
    "df_jobs1.info()"
   ],
   "id": "ad5f1b5994aab4b7",
   "outputs": [
    {
     "name": "stdout",
     "output_type": "stream",
     "text": [
      "<class 'pandas.core.frame.DataFrame'>\n",
      "RangeIndex: 14862 entries, 0 to 14861\n",
      "Data columns (total 6 columns):\n",
      " #   Column       Non-Null Count  Dtype \n",
      "---  ------       --------------  ----- \n",
      " 0   Title        14862 non-null  object\n",
      " 1   Location     14862 non-null  object\n",
      " 2   Company      14862 non-null  object\n",
      " 3   Job_Type     7078 non-null   object\n",
      " 4   Description  14862 non-null  object\n",
      " 5   Salary       6311 non-null   object\n",
      "dtypes: object(6)\n",
      "memory usage: 696.8+ KB\n"
     ]
    }
   ],
   "execution_count": 26
  },
  {
   "metadata": {
    "ExecuteTime": {
     "end_time": "2025-01-16T18:54:25.347769Z",
     "start_time": "2025-01-16T18:54:25.332441Z"
    }
   },
   "cell_type": "code",
   "source": [
    "df_glassdoor15 = pd.read_csv(\"GlassdoorPull-2025-01-15.csv\")\n",
    "df_glassdoor15[\"Job_Type\"] = np.nan\n",
    "df_glassdoor15[\"Company\"] = np.nan\n",
    "df_glassdoor15.drop([\"ID\"], axis=1, inplace=True)\n",
    "df_glassdoor15.info()"
   ],
   "id": "e4ba2e339863d0ff",
   "outputs": [
    {
     "name": "stdout",
     "output_type": "stream",
     "text": [
      "<class 'pandas.core.frame.DataFrame'>\n",
      "RangeIndex: 480 entries, 0 to 479\n",
      "Data columns (total 6 columns):\n",
      " #   Column       Non-Null Count  Dtype  \n",
      "---  ------       --------------  -----  \n",
      " 0   Title        480 non-null    object \n",
      " 1   Location     480 non-null    object \n",
      " 2   Salary       391 non-null    object \n",
      " 3   Description  480 non-null    object \n",
      " 4   Job_Type     0 non-null      float64\n",
      " 5   Company      0 non-null      float64\n",
      "dtypes: float64(2), object(4)\n",
      "memory usage: 22.6+ KB\n"
     ]
    }
   ],
   "execution_count": 27
  },
  {
   "metadata": {
    "ExecuteTime": {
     "end_time": "2025-01-16T18:55:03.244658Z",
     "start_time": "2025-01-16T18:55:03.230381Z"
    }
   },
   "cell_type": "code",
   "source": [
    "df_simply_hired = pd.read_csv(\"simply_hired.csv\")\n",
    "df_simply_hired.drop([\"Unique Title\"], axis=1, inplace=True)\n",
    "df_simply_hired.rename(columns =  {\"Title\":\"Title\", \"Job Location\":\"Location\", \"Company Name\":\"Company\", \"Job Type\":\"Job_Type\", \"Salary\":\"Salary\"}, inplace=True)\n",
    "df_simply_hired[\"Description\"] = np.nan\n",
    "df_simply_hired.info()"
   ],
   "id": "98c41345b8b3c3b9",
   "outputs": [
    {
     "name": "stdout",
     "output_type": "stream",
     "text": [
      "<class 'pandas.core.frame.DataFrame'>\n",
      "RangeIndex: 750 entries, 0 to 749\n",
      "Data columns (total 6 columns):\n",
      " #   Column       Non-Null Count  Dtype  \n",
      "---  ------       --------------  -----  \n",
      " 0   Title        750 non-null    object \n",
      " 1   Location     750 non-null    object \n",
      " 2   Company      750 non-null    object \n",
      " 3   Job_Type     750 non-null    object \n",
      " 4   Salary       750 non-null    object \n",
      " 5   Description  0 non-null      float64\n",
      "dtypes: float64(1), object(5)\n",
      "memory usage: 35.3+ KB\n"
     ]
    }
   ],
   "execution_count": 31
  },
  {
   "metadata": {},
   "cell_type": "markdown",
   "source": [
    "### Columns:\n",
    "- Title\n",
    "- Location\n",
    "- Company\n",
    "- Job_Type\n",
    "- Salary\n",
    "- Description"
   ],
   "id": "7068c55c8aef35a0"
  },
  {
   "metadata": {},
   "cell_type": "markdown",
   "source": "### Concat the dataframes together",
   "id": "e460297197346aed"
  },
  {
   "metadata": {
    "ExecuteTime": {
     "end_time": "2025-01-16T19:01:47.100769Z",
     "start_time": "2025-01-16T19:01:45.716125Z"
    }
   },
   "cell_type": "code",
   "source": [
    "df = pd.concat([df_jobs, df_jobs1, df_glassdoor15, df_simply_hired], join=\"inner\")\n",
    "df.to_csv(\"job_market_list.csv\", index=False)"
   ],
   "id": "d3007604dacf3a79",
   "outputs": [],
   "execution_count": 41
  },
  {
   "metadata": {
    "ExecuteTime": {
     "end_time": "2025-01-16T19:01:50.250299Z",
     "start_time": "2025-01-16T19:01:50.231932Z"
    }
   },
   "cell_type": "code",
   "source": "df.info()",
   "id": "d3d95555bbe05619",
   "outputs": [
    {
     "name": "stdout",
     "output_type": "stream",
     "text": [
      "<class 'pandas.core.frame.DataFrame'>\n",
      "Index: 19058 entries, 0 to 749\n",
      "Data columns (total 6 columns):\n",
      " #   Column       Non-Null Count  Dtype \n",
      "---  ------       --------------  ----- \n",
      " 0   Title        19058 non-null  object\n",
      " 1   Location     19058 non-null  object\n",
      " 2   Company      18578 non-null  object\n",
      " 3   Job_Type     10262 non-null  object\n",
      " 4   Salary       8996 non-null   object\n",
      " 5   Description  15342 non-null  object\n",
      "dtypes: object(6)\n",
      "memory usage: 1.0+ MB\n"
     ]
    }
   ],
   "execution_count": 42
  },
  {
   "metadata": {
    "ExecuteTime": {
     "end_time": "2025-01-16T19:01:50.588335Z",
     "start_time": "2025-01-16T19:01:50.555916Z"
    }
   },
   "cell_type": "code",
   "source": "df.describe()",
   "id": "32a455a4d4c6446b",
   "outputs": [
    {
     "data": {
      "text/plain": [
       "                           Title     Location      Company   Job_Type  \\\n",
       "count                      19058        19058        18578      10262   \n",
       "unique                      2425          156         1976          9   \n",
       "top     Senior Software Engineer  Chicago, IL  Uline, Inc.  Full-time   \n",
       "freq                        1188         7417          201       9669   \n",
       "\n",
       "                  Salary                                        Description  \n",
       "count               8996                                              15342  \n",
       "unique              1005                                               2991  \n",
       "top     $65K - $85K / yr  Software Development Team Lead - Web\\nPay from...  \n",
       "freq                 335                                                199  "
      ],
      "text/html": [
       "<div>\n",
       "<style scoped>\n",
       "    .dataframe tbody tr th:only-of-type {\n",
       "        vertical-align: middle;\n",
       "    }\n",
       "\n",
       "    .dataframe tbody tr th {\n",
       "        vertical-align: top;\n",
       "    }\n",
       "\n",
       "    .dataframe thead th {\n",
       "        text-align: right;\n",
       "    }\n",
       "</style>\n",
       "<table border=\"1\" class=\"dataframe\">\n",
       "  <thead>\n",
       "    <tr style=\"text-align: right;\">\n",
       "      <th></th>\n",
       "      <th>Title</th>\n",
       "      <th>Location</th>\n",
       "      <th>Company</th>\n",
       "      <th>Job_Type</th>\n",
       "      <th>Salary</th>\n",
       "      <th>Description</th>\n",
       "    </tr>\n",
       "  </thead>\n",
       "  <tbody>\n",
       "    <tr>\n",
       "      <th>count</th>\n",
       "      <td>19058</td>\n",
       "      <td>19058</td>\n",
       "      <td>18578</td>\n",
       "      <td>10262</td>\n",
       "      <td>8996</td>\n",
       "      <td>15342</td>\n",
       "    </tr>\n",
       "    <tr>\n",
       "      <th>unique</th>\n",
       "      <td>2425</td>\n",
       "      <td>156</td>\n",
       "      <td>1976</td>\n",
       "      <td>9</td>\n",
       "      <td>1005</td>\n",
       "      <td>2991</td>\n",
       "    </tr>\n",
       "    <tr>\n",
       "      <th>top</th>\n",
       "      <td>Senior Software Engineer</td>\n",
       "      <td>Chicago, IL</td>\n",
       "      <td>Uline, Inc.</td>\n",
       "      <td>Full-time</td>\n",
       "      <td>$65K - $85K / yr</td>\n",
       "      <td>Software Development Team Lead - Web\\nPay from...</td>\n",
       "    </tr>\n",
       "    <tr>\n",
       "      <th>freq</th>\n",
       "      <td>1188</td>\n",
       "      <td>7417</td>\n",
       "      <td>201</td>\n",
       "      <td>9669</td>\n",
       "      <td>335</td>\n",
       "      <td>199</td>\n",
       "    </tr>\n",
       "  </tbody>\n",
       "</table>\n",
       "</div>"
      ]
     },
     "execution_count": 43,
     "metadata": {},
     "output_type": "execute_result"
    }
   ],
   "execution_count": 43
  },
  {
   "metadata": {
    "ExecuteTime": {
     "end_time": "2025-01-16T19:01:50.857775Z",
     "start_time": "2025-01-16T19:01:50.849927Z"
    }
   },
   "cell_type": "code",
   "source": "df[\"Title\"]",
   "id": "42fbaa75f6141461",
   "outputs": [
    {
     "data": {
      "text/plain": [
       "0                         Cybersecurity Systems Engineer\n",
       "1                                Staff Software Engineer\n",
       "2                         Software Development Team Lead\n",
       "3      Lead Software Engineer - Full Stack - Java/Rea...\n",
       "4                             CNC Manufacturing Engineer\n",
       "                             ...                        \n",
       "745                Technical Projet Manager (AWS DevOps)\n",
       "746               Sr Manager -IT App Dev Fuel Management\n",
       "747    Senior DevSecOps Engineer/RPA Senior Product E...\n",
       "748                              VP, AWS Cloud Architect\n",
       "749                        Solutions Architect III - AWS\n",
       "Name: Title, Length: 19058, dtype: object"
      ]
     },
     "execution_count": 44,
     "metadata": {},
     "output_type": "execute_result"
    }
   ],
   "execution_count": 44
  },
  {
   "metadata": {},
   "cell_type": "code",
   "outputs": [],
   "execution_count": null,
   "source": "",
   "id": "5d4117678b793dfb"
  }
 ],
 "metadata": {
  "kernelspec": {
   "display_name": "Python 3",
   "language": "python",
   "name": "python3"
  },
  "language_info": {
   "codemirror_mode": {
    "name": "ipython",
    "version": 2
   },
   "file_extension": ".py",
   "mimetype": "text/x-python",
   "name": "python",
   "nbconvert_exporter": "python",
   "pygments_lexer": "ipython2",
   "version": "2.7.6"
  }
 },
 "nbformat": 4,
 "nbformat_minor": 5
}
