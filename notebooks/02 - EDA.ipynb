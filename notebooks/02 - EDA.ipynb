{
 "cells": [
  {
   "cell_type": "code",
   "execution_count": 2,
   "id": "initial_id",
   "metadata": {
    "ExecuteTime": {
     "end_time": "2025-05-23T23:08:08.060600Z",
     "start_time": "2025-05-23T23:08:08.054733Z"
    },
    "collapsed": true
   },
   "outputs": [],
   "source": [
    "import pandas as pd\n",
    "import numpy as np\n",
    "import matplotlib.pyplot as plt\n",
    "import seaborn as sns"
   ]
  },
  {
   "cell_type": "code",
   "execution_count": 3,
   "id": "da4ba988e9830e08",
   "metadata": {
    "ExecuteTime": {
     "end_time": "2025-05-23T23:08:09.796650Z",
     "start_time": "2025-05-23T23:08:08.076138Z"
    }
   },
   "outputs": [],
   "source": [
    "df = pd.read_csv(\"../data/processed/job_market_data.csv\")\n",
    "df2 = pd.read_csv(\"../data/processed/job_market_clean_looser.csv\")"
   ]
  },
  {
   "cell_type": "code",
   "execution_count": 4,
   "id": "2a9f3b485d739ee5",
   "metadata": {
    "ExecuteTime": {
     "end_time": "2025-05-23T23:08:09.853981Z",
     "start_time": "2025-05-23T23:08:09.828187Z"
    }
   },
   "outputs": [
    {
     "name": "stdout",
     "output_type": "stream",
     "text": [
      "<class 'pandas.core.frame.DataFrame'>\n",
      "RangeIndex: 45241 entries, 0 to 45240\n",
      "Data columns (total 9 columns):\n",
      " #   Column           Non-Null Count  Dtype  \n",
      "---  ------           --------------  -----  \n",
      " 0   Title            45220 non-null  object \n",
      " 1   Location         45217 non-null  object \n",
      " 2   Company          37716 non-null  object \n",
      " 3   Job_Type         21084 non-null  object \n",
      " 4   Salary           24556 non-null  object \n",
      " 5   Description      22366 non-null  object \n",
      " 6   source           45241 non-null  object \n",
      " 7   job_description  14862 non-null  object \n",
      " 8   Unnamed: 0       120 non-null    float64\n",
      "dtypes: float64(1), object(8)\n",
      "memory usage: 3.1+ MB\n"
     ]
    }
   ],
   "source": [
    "df.info()"
   ]
  },
  {
   "cell_type": "code",
   "execution_count": 5,
   "id": "305685ddef8d3c3f",
   "metadata": {
    "ExecuteTime": {
     "end_time": "2025-05-23T23:08:09.906715Z",
     "start_time": "2025-05-23T23:08:09.883627Z"
    }
   },
   "outputs": [
    {
     "name": "stdout",
     "output_type": "stream",
     "text": [
      "<class 'pandas.core.frame.DataFrame'>\n",
      "RangeIndex: 3843 entries, 0 to 3842\n",
      "Data columns (total 8 columns):\n",
      " #   Column           Non-Null Count  Dtype \n",
      "---  ------           --------------  ----- \n",
      " 0   Title            3842 non-null   object\n",
      " 1   Location         3841 non-null   object\n",
      " 2   Company          3004 non-null   object\n",
      " 3   Job_Type         1939 non-null   object\n",
      " 4   Salary           1855 non-null   object\n",
      " 5   Description      838 non-null    object\n",
      " 6   source           3843 non-null   object\n",
      " 7   job_description  2529 non-null   object\n",
      "dtypes: object(8)\n",
      "memory usage: 240.3+ KB\n"
     ]
    }
   ],
   "source": [
    "df2.info()"
   ]
  },
  {
   "cell_type": "code",
   "execution_count": 6,
   "id": "86bcdbad4365378c",
   "metadata": {
    "ExecuteTime": {
     "end_time": "2025-05-23T23:08:09.952054Z",
     "start_time": "2025-05-23T23:08:09.938110Z"
    }
   },
   "outputs": [
    {
     "data": {
      "text/html": [
       "<div>\n",
       "<style scoped>\n",
       "    .dataframe tbody tr th:only-of-type {\n",
       "        vertical-align: middle;\n",
       "    }\n",
       "\n",
       "    .dataframe tbody tr th {\n",
       "        vertical-align: top;\n",
       "    }\n",
       "\n",
       "    .dataframe thead th {\n",
       "        text-align: right;\n",
       "    }\n",
       "</style>\n",
       "<table border=\"1\" class=\"dataframe\">\n",
       "  <thead>\n",
       "    <tr style=\"text-align: right;\">\n",
       "      <th></th>\n",
       "      <th>Title</th>\n",
       "      <th>Location</th>\n",
       "      <th>Company</th>\n",
       "      <th>Job_Type</th>\n",
       "      <th>Salary</th>\n",
       "      <th>Description</th>\n",
       "      <th>source</th>\n",
       "      <th>job_description</th>\n",
       "      <th>Unnamed: 0</th>\n",
       "    </tr>\n",
       "  </thead>\n",
       "  <tbody>\n",
       "    <tr>\n",
       "      <th>0</th>\n",
       "      <td>Cybersecurity Systems Engineer</td>\n",
       "      <td>Des Plaines, IL</td>\n",
       "      <td>Kranze Technology Solutions, Inc</td>\n",
       "      <td>Full-time</td>\n",
       "      <td>NaN</td>\n",
       "      <td>NaN</td>\n",
       "      <td>df_jobs</td>\n",
       "      <td>NaN</td>\n",
       "      <td>NaN</td>\n",
       "    </tr>\n",
       "    <tr>\n",
       "      <th>1</th>\n",
       "      <td>Staff Software Engineer</td>\n",
       "      <td>Skokie, IL</td>\n",
       "      <td>Jobot</td>\n",
       "      <td>Full-time</td>\n",
       "      <td>$130K - $190K / yr</td>\n",
       "      <td>NaN</td>\n",
       "      <td>df_jobs</td>\n",
       "      <td>NaN</td>\n",
       "      <td>NaN</td>\n",
       "    </tr>\n",
       "    <tr>\n",
       "      <th>2</th>\n",
       "      <td>Software Development Team Lead</td>\n",
       "      <td>Burr Ridge, IL</td>\n",
       "      <td>Uline, Inc.</td>\n",
       "      <td>Full-time</td>\n",
       "      <td>NaN</td>\n",
       "      <td>NaN</td>\n",
       "      <td>df_jobs</td>\n",
       "      <td>NaN</td>\n",
       "      <td>NaN</td>\n",
       "    </tr>\n",
       "    <tr>\n",
       "      <th>3</th>\n",
       "      <td>Lead Software Engineer - Full Stack - Java/Rea...</td>\n",
       "      <td>Chicago, IL</td>\n",
       "      <td>JPMorganChase</td>\n",
       "      <td>Full-time</td>\n",
       "      <td>NaN</td>\n",
       "      <td>NaN</td>\n",
       "      <td>df_jobs</td>\n",
       "      <td>NaN</td>\n",
       "      <td>NaN</td>\n",
       "    </tr>\n",
       "    <tr>\n",
       "      <th>4</th>\n",
       "      <td>CNC Manufacturing Engineer</td>\n",
       "      <td>Chicago, IL</td>\n",
       "      <td>Aegis Worldwide</td>\n",
       "      <td>Full-time</td>\n",
       "      <td>$90K - $105K / yr</td>\n",
       "      <td>NaN</td>\n",
       "      <td>df_jobs</td>\n",
       "      <td>NaN</td>\n",
       "      <td>NaN</td>\n",
       "    </tr>\n",
       "  </tbody>\n",
       "</table>\n",
       "</div>"
      ],
      "text/plain": [
       "                                               Title         Location  \\\n",
       "0                     Cybersecurity Systems Engineer  Des Plaines, IL   \n",
       "1                            Staff Software Engineer       Skokie, IL   \n",
       "2                     Software Development Team Lead   Burr Ridge, IL   \n",
       "3  Lead Software Engineer - Full Stack - Java/Rea...      Chicago, IL   \n",
       "4                         CNC Manufacturing Engineer      Chicago, IL   \n",
       "\n",
       "                            Company   Job_Type              Salary  \\\n",
       "0  Kranze Technology Solutions, Inc  Full-time                 NaN   \n",
       "1                             Jobot  Full-time  $130K - $190K / yr   \n",
       "2                       Uline, Inc.  Full-time                 NaN   \n",
       "3                     JPMorganChase  Full-time                 NaN   \n",
       "4                   Aegis Worldwide  Full-time   $90K - $105K / yr   \n",
       "\n",
       "  Description   source job_description  Unnamed: 0  \n",
       "0         NaN  df_jobs             NaN         NaN  \n",
       "1         NaN  df_jobs             NaN         NaN  \n",
       "2         NaN  df_jobs             NaN         NaN  \n",
       "3         NaN  df_jobs             NaN         NaN  \n",
       "4         NaN  df_jobs             NaN         NaN  "
      ]
     },
     "execution_count": 6,
     "metadata": {},
     "output_type": "execute_result"
    }
   ],
   "source": [
    "df.head()"
   ]
  },
  {
   "cell_type": "markdown",
   "id": "98c9c713dc387c56",
   "metadata": {},
   "source": [
    "## Univariate Analysis"
   ]
  },
  {
   "cell_type": "markdown",
   "id": "d23a59579b3b1c3d",
   "metadata": {},
   "source": [
    "- Most Common Job Titles: Frequency count of job titles.\n",
    "\n",
    "- Top Hiring Companies: Bar chart of companies with the most listings.\n",
    "\n",
    "- Job Types Distribution: Pie or bar chart showing proportions of full-time, part-time, etc.\n",
    "\n",
    "- Salary Value Range: Clean the Salary column to extract numeric data, then plot distributions."
   ]
  },
  {
   "cell_type": "code",
   "execution_count": 7,
   "id": "1e4b30c142053a19",
   "metadata": {
    "ExecuteTime": {
     "end_time": "2025-05-23T23:08:10.041712Z",
     "start_time": "2025-05-23T23:08:10.027825Z"
    }
   },
   "outputs": [
    {
     "data": {
      "text/plain": [
       "Title\n",
       "Senior Software Engineer                2566\n",
       "Software Engineer                       1328\n",
       "Full Stack Developer                     652\n",
       "Full Stack Engineer                      528\n",
       "Web Developer                            526\n",
       "Data Engineer                            516\n",
       "Software Developer                       421\n",
       "Software Development Team Lead - Web     398\n",
       "Founding Software Engineer               387\n",
       "DevOps Software Engineer Intern          324\n",
       "Name: count, dtype: int64"
      ]
     },
     "execution_count": 7,
     "metadata": {},
     "output_type": "execute_result"
    }
   ],
   "source": [
    "top_titles = df['Title'].value_counts().nlargest(10)\n",
    "top_titles"
   ]
  },
  {
   "cell_type": "code",
   "execution_count": 8,
   "id": "86b2a7ed88976969",
   "metadata": {
    "ExecuteTime": {
     "end_time": "2025-05-23T23:08:10.157890Z",
     "start_time": "2025-05-23T23:08:10.140428Z"
    }
   },
   "outputs": [
    {
     "data": {
      "text/plain": [
       "Company\n",
       "Uline, Inc.                         402\n",
       "Kranze Technology Solutions, Inc    380\n",
       "Motion Recruitment Partners, LLC    346\n",
       "Catalyst Consulting Group, Inc.     338\n",
       "ESPO Corporation                    330\n",
       "Georgia IT Inc                      280\n",
       "Avani Technology Solutions, Inc.    276\n",
       "Havensight Consulting Group, LLC    270\n",
       "Sterling Engineering                270\n",
       "Metasys Technologies                266\n",
       "Name: count, dtype: int64"
      ]
     },
     "execution_count": 8,
     "metadata": {},
     "output_type": "execute_result"
    }
   ],
   "source": [
    "top_companies = df['Company'].value_counts().nlargest(10)\n",
    "top_companies"
   ]
  },
  {
   "cell_type": "code",
   "execution_count": 9,
   "id": "a0374cb7b6658b89",
   "metadata": {
    "ExecuteTime": {
     "end_time": "2025-05-23T23:08:10.382280Z",
     "start_time": "2025-05-23T23:08:10.371510Z"
    }
   },
   "outputs": [
    {
     "data": {
      "text/plain": [
       "Job_Type\n",
       "Full-time                19733\n",
       "Part-time                  547\n",
       "unknown                    450\n",
       "Contract                   152\n",
       "Contract | Freelance       128\n",
       "Part-time | Full-time       30\n",
       "Seasonal | Internship       20\n",
       "Permanent | Full-time       18\n",
       "Permanent                    4\n",
       "Full-time | Contract         2\n",
       "Name: count, dtype: int64"
      ]
     },
     "execution_count": 9,
     "metadata": {},
     "output_type": "execute_result"
    }
   ],
   "source": [
    "job_type_counts = df['Job_Type'].value_counts()\n",
    "job_type_counts"
   ]
  },
  {
   "cell_type": "code",
   "execution_count": 10,
   "id": "9b636a581a22fb81",
   "metadata": {
    "ExecuteTime": {
     "end_time": "2025-05-23T23:08:10.860921Z",
     "start_time": "2025-05-23T23:08:10.555607Z"
    }
   },
   "outputs": [
    {
     "data": {
      "image/png": "[encoded data removed]",
      "text/plain": [
       "<Figure size 1000x600 with 1 Axes>"
      ]
     },
     "metadata": {},
     "output_type": "display_data"
    }
   ],
   "source": [
    "# Create a DataFrame from the top_titles Series\n",
    "top_titles_df = top_titles.reset_index()\n",
    "top_titles_df.columns = ['Job_Title', 'Count']\n",
    "\n",
    "# Plot using Seaborn with hue for color assignment\n",
    "plt.figure(figsize=(10, 6))\n",
    "sns.barplot(\n",
    "    x='Count',\n",
    "    y='Job_Title',\n",
    "    hue='Job_Title',\n",
    "    data=top_titles_df,\n",
    "    palette='Dark2',\n",
    "    dodge=False,\n",
    "    legend=False\n",
    ")\n",
    "plt.title('Top 10 Most Common Job Titles')\n",
    "plt.xlabel('Number of Postings')\n",
    "plt.ylabel('Job Title')\n",
    "plt.tight_layout()\n",
    "plt.show()"
   ]
  },
  {
   "cell_type": "code",
   "execution_count": 11,
   "id": "5b03c44161664c16",
   "metadata": {
    "ExecuteTime": {
     "end_time": "2025-05-23T23:08:11.178373Z",
     "start_time": "2025-05-23T23:08:10.901455Z"
    }
   },
   "outputs": [
    {
     "data": {
      "image/png": "[encoded data removed]",
      "text/plain": [
       "<Figure size 1000x600 with 1 Axes>"
      ]
     },
     "metadata": {},
     "output_type": "display_data"
    }
   ],
   "source": [
    "# Create a DataFrame from the top_companies Series\n",
    "top_companies_df = top_companies.reset_index()\n",
    "top_companies_df.columns = ['Company', 'Count']\n",
    "\n",
    "# Plot using Seaborn with hue for color assignment\n",
    "plt.figure(figsize=(10, 6))\n",
    "sns.barplot(\n",
    "    x='Count',\n",
    "    y='Company',\n",
    "    hue='Company',\n",
    "    data=top_companies_df,\n",
    "    palette='Dark2',\n",
    "    dodge=False,\n",
    "    legend=False\n",
    ")\n",
    "plt.title('Top 10 Hiring Companies')\n",
    "plt.xlabel('Number of Postings')\n",
    "plt.ylabel('Company')\n",
    "plt.tight_layout()\n",
    "plt.show()"
   ]
  },
  {
   "cell_type": "code",
   "execution_count": 12,
   "id": "129ed5eb83297243",
   "metadata": {
    "ExecuteTime": {
     "end_time": "2025-05-23T23:08:11.470732Z",
     "start_time": "2025-05-23T23:08:11.187101Z"
    }
   },
   "outputs": [
    {
     "data": {
      "image/png": "[encoded data removed]",
      "text/plain": [
       "<Figure size 1000x600 with 1 Axes>"
      ]
     },
     "metadata": {},
     "output_type": "display_data"
    }
   ],
   "source": [
    "# Create a DataFrame from the job_type_counts Series\n",
    "job_type_df = job_type_counts.reset_index()\n",
    "job_type_df.columns = ['Job_Type', 'Count']\n",
    "\n",
    "# Plot using Seaborn with hue for color assignment\n",
    "plt.figure(figsize=(10, 6))\n",
    "sns.barplot(\n",
    "    x='Job_Type',\n",
    "    y='Count',\n",
    "    hue='Job_Type',\n",
    "    data=job_type_df,\n",
    "    palette='Dark2',\n",
    "    dodge=False,\n",
    "    legend=False\n",
    ")\n",
    "plt.title('Distribution of Job Types')\n",
    "plt.xlabel('Job Type')\n",
    "plt.ylabel('Count')\n",
    "plt.xticks(rotation=45)\n",
    "plt.tight_layout()\n",
    "plt.show()"
   ]
  },
  {
   "cell_type": "markdown",
   "id": "34dec3856b17acb5",
   "metadata": {},
   "source": [
    "## Location-Based Analysis"
   ]
  },
  {
   "cell_type": "markdown",
   "id": "71e670b1e49f94e4",
   "metadata": {},
   "source": [
    "- Top Cities or States for Jobs: Most listings by city or state.\n",
    "\n",
    "- Job Types by Location: How job type distribution varies by region."
   ]
  },
  {
   "cell_type": "code",
   "execution_count": 13,
   "id": "c1978524ca081d1f",
   "metadata": {
    "ExecuteTime": {
     "end_time": "2025-05-23T23:08:11.511275Z",
     "start_time": "2025-05-23T23:08:11.501799Z"
    }
   },
   "outputs": [],
   "source": [
    "# Get the top 10 most common job locations\n",
    "top_locations = df['Location'].value_counts().nlargest(10)"
   ]
  },
  {
   "cell_type": "code",
   "execution_count": 14,
   "id": "6552f5479e9a8c39",
   "metadata": {
    "ExecuteTime": {
     "end_time": "2025-05-23T23:08:11.575438Z",
     "start_time": "2025-05-23T23:08:11.547933Z"
    }
   },
   "outputs": [],
   "source": [
    "# Create a DataFrame for Seaborn\n",
    "top_locations_df = top_locations.reset_index()\n",
    "top_locations_df.columns = ['Location', 'Count']"
   ]
  },
  {
   "cell_type": "code",
   "execution_count": 15,
   "id": "5e63f62415e1ee91",
   "metadata": {
    "ExecuteTime": {
     "end_time": "2025-05-23T23:08:11.870567Z",
     "start_time": "2025-05-23T23:08:11.613016Z"
    }
   },
   "outputs": [
    {
     "data": {
      "image/png": "[encoded data removed]",
      "text/plain": [
       "<Figure size 1000x600 with 1 Axes>"
      ]
     },
     "metadata": {},
     "output_type": "display_data"
    }
   ],
   "source": [
    "# Re-plot without the invalid `legend` argument\n",
    "plt.figure(figsize=(10, 6))\n",
    "sns.barplot(\n",
    "    x='Count',\n",
    "    y='Location',\n",
    "    hue='Location',\n",
    "    data=top_locations_df,\n",
    "    palette='coolwarm',\n",
    "    dodge=False\n",
    ")\n",
    "plt.title('Top 10 Job Locations')\n",
    "plt.xlabel('Number of Postings')\n",
    "plt.ylabel('Location')\n",
    "plt.tight_layout()\n",
    "plt.show()"
   ]
  },
  {
   "cell_type": "code",
   "execution_count": 16,
   "id": "64942dd06b3f9926",
   "metadata": {
    "ExecuteTime": {
     "end_time": "2025-05-23T23:08:11.924570Z",
     "start_time": "2025-05-23T23:08:11.904318Z"
    }
   },
   "outputs": [],
   "source": [
    "# Drop rows with missing Location, Job_Type, or Company\n",
    "filtered_df = df.dropna(subset=['Location', 'Job_Type', 'Company'])"
   ]
  },
  {
   "cell_type": "code",
   "execution_count": 17,
   "id": "177dcb3c89c13e7f",
   "metadata": {
    "ExecuteTime": {
     "end_time": "2025-05-23T23:08:11.973010Z",
     "start_time": "2025-05-23T23:08:11.955327Z"
    }
   },
   "outputs": [],
   "source": [
    "# Get the top 5 locations\n",
    "top_5_locations = filtered_df['Location'].value_counts().nlargest(5).index\n",
    "subset_df = filtered_df[filtered_df['Location'].isin(top_5_locations)]"
   ]
  },
  {
   "cell_type": "code",
   "execution_count": 18,
   "id": "16da570bee4677f3",
   "metadata": {
    "ExecuteTime": {
     "end_time": "2025-05-23T23:08:12.339304Z",
     "start_time": "2025-05-23T23:08:12.009273Z"
    }
   },
   "outputs": [
    {
     "data": {
      "image/png": "[encoded data removed]",
      "text/plain": [
       "<Figure size 1200x600 with 1 Axes>"
      ]
     },
     "metadata": {},
     "output_type": "display_data"
    }
   ],
   "source": [
    "# --- Plot Job Type Distribution by Location ---\n",
    "plt.figure(figsize=(12, 6))\n",
    "sns.countplot(data=subset_df, y='Location', hue='Job_Type', palette='Set2')\n",
    "plt.title('Job Type Distribution by Location (Top 5 Locations)')\n",
    "plt.xlabel('Number of Postings')\n",
    "plt.ylabel('Location')\n",
    "plt.legend(title='Job Type', bbox_to_anchor=(1.05, 1), loc='upper left')\n",
    "plt.tight_layout()\n",
    "plt.show()"
   ]
  },
  {
   "cell_type": "code",
   "execution_count": 19,
   "id": "9318bbb84064454a",
   "metadata": {
    "ExecuteTime": {
     "end_time": "2025-05-23T23:08:12.389218Z",
     "start_time": "2025-05-23T23:08:12.375300Z"
    }
   },
   "outputs": [],
   "source": [
    "# --- Plot Top Companies by Location ---\n",
    "# Count company listings within top locations\n",
    "top_companies_by_location = (\n",
    "    subset_df.groupby(['Location', 'Company'])\n",
    "    .size()\n",
    "    .reset_index(name='Count')\n",
    "    .sort_values(['Location', 'Count'], ascending=[True, False])\n",
    ")"
   ]
  },
  {
   "cell_type": "code",
   "execution_count": 20,
   "id": "c4e4308a27a7ea71",
   "metadata": {
    "ExecuteTime": {
     "end_time": "2025-05-23T23:08:12.437350Z",
     "start_time": "2025-05-23T23:08:12.421277Z"
    }
   },
   "outputs": [],
   "source": [
    "# Get the top 3 companies per location\n",
    "top_3_companies_each_location = (\n",
    "    top_companies_by_location.groupby('Location')\n",
    "    .head(3)\n",
    "    .reset_index(drop=True)\n",
    ")"
   ]
  },
  {
   "cell_type": "code",
   "execution_count": 21,
   "id": "7afff8c3093bbdba",
   "metadata": {
    "ExecuteTime": {
     "end_time": "2025-05-23T23:08:12.802328Z",
     "start_time": "2025-05-23T23:08:12.472892Z"
    }
   },
   "outputs": [
    {
     "data": {
      "image/png": "[encoded data removed]",
      "text/plain": [
       "<Figure size 1200x600 with 1 Axes>"
      ]
     },
     "metadata": {},
     "output_type": "display_data"
    }
   ],
   "source": [
    "# Plot top companies by location\n",
    "plt.figure(figsize=(12, 6))\n",
    "sns.barplot(\n",
    "    data=top_3_companies_each_location,\n",
    "    x='Count',\n",
    "    y='Company',\n",
    "    hue='Location',\n",
    "    dodge=True,\n",
    "    palette='muted'\n",
    ")\n",
    "plt.title('Top 3 Hiring Companies by Location (Top 5 Locations)')\n",
    "plt.xlabel('Number of Postings')\n",
    "plt.ylabel('Company')\n",
    "plt.legend(title='Location', bbox_to_anchor=(1.05, 1), loc='upper left')\n",
    "plt.tight_layout()\n",
    "plt.show()"
   ]
  },
  {
   "cell_type": "markdown",
   "id": "6bfd4b0922a22013",
   "metadata": {},
   "source": [
    "## Salary Insights"
   ]
  },
  {
   "cell_type": "markdown",
   "id": "9c77b25c6b80079a",
   "metadata": {},
   "source": [
    "- Salary vs Job Type: Average or median salary grouped by job type.\n",
    "\n",
    "- Salary by Company: Identify companies offering the highest median salaries.\n",
    "\n",
    "- Salary Distribution: Histogram or boxplot (after cleaning and parsing salary values)."
   ]
  },
  {
   "cell_type": "code",
   "execution_count": 22,
   "id": "2d6dcffdaa626dd2",
   "metadata": {
    "ExecuteTime": {
     "end_time": "2025-05-23T23:08:12.846767Z",
     "start_time": "2025-05-23T23:08:12.832337Z"
    }
   },
   "outputs": [
    {
     "data": {
      "text/html": [
       "<div>\n",
       "<style scoped>\n",
       "    .dataframe tbody tr th:only-of-type {\n",
       "        vertical-align: middle;\n",
       "    }\n",
       "\n",
       "    .dataframe tbody tr th {\n",
       "        vertical-align: top;\n",
       "    }\n",
       "\n",
       "    .dataframe thead th {\n",
       "        text-align: right;\n",
       "    }\n",
       "</style>\n",
       "<table border=\"1\" class=\"dataframe\">\n",
       "  <thead>\n",
       "    <tr style=\"text-align: right;\">\n",
       "      <th></th>\n",
       "      <th>Title</th>\n",
       "      <th>Location</th>\n",
       "      <th>Company</th>\n",
       "      <th>Job_Type</th>\n",
       "      <th>Salary</th>\n",
       "      <th>Description</th>\n",
       "      <th>source</th>\n",
       "      <th>job_description</th>\n",
       "      <th>Unnamed: 0</th>\n",
       "    </tr>\n",
       "  </thead>\n",
       "  <tbody>\n",
       "    <tr>\n",
       "      <th>0</th>\n",
       "      <td>Cybersecurity Systems Engineer</td>\n",
       "      <td>Des Plaines, IL</td>\n",
       "      <td>Kranze Technology Solutions, Inc</td>\n",
       "      <td>Full-time</td>\n",
       "      <td>NaN</td>\n",
       "      <td>NaN</td>\n",
       "      <td>df_jobs</td>\n",
       "      <td>NaN</td>\n",
       "      <td>NaN</td>\n",
       "    </tr>\n",
       "    <tr>\n",
       "      <th>1</th>\n",
       "      <td>Staff Software Engineer</td>\n",
       "      <td>Skokie, IL</td>\n",
       "      <td>Jobot</td>\n",
       "      <td>Full-time</td>\n",
       "      <td>$130K - $190K / yr</td>\n",
       "      <td>NaN</td>\n",
       "      <td>df_jobs</td>\n",
       "      <td>NaN</td>\n",
       "      <td>NaN</td>\n",
       "    </tr>\n",
       "    <tr>\n",
       "      <th>2</th>\n",
       "      <td>Software Development Team Lead</td>\n",
       "      <td>Burr Ridge, IL</td>\n",
       "      <td>Uline, Inc.</td>\n",
       "      <td>Full-time</td>\n",
       "      <td>NaN</td>\n",
       "      <td>NaN</td>\n",
       "      <td>df_jobs</td>\n",
       "      <td>NaN</td>\n",
       "      <td>NaN</td>\n",
       "    </tr>\n",
       "    <tr>\n",
       "      <th>3</th>\n",
       "      <td>Lead Software Engineer - Full Stack - Java/Rea...</td>\n",
       "      <td>Chicago, IL</td>\n",
       "      <td>JPMorganChase</td>\n",
       "      <td>Full-time</td>\n",
       "      <td>NaN</td>\n",
       "      <td>NaN</td>\n",
       "      <td>df_jobs</td>\n",
       "      <td>NaN</td>\n",
       "      <td>NaN</td>\n",
       "    </tr>\n",
       "    <tr>\n",
       "      <th>4</th>\n",
       "      <td>CNC Manufacturing Engineer</td>\n",
       "      <td>Chicago, IL</td>\n",
       "      <td>Aegis Worldwide</td>\n",
       "      <td>Full-time</td>\n",
       "      <td>$90K - $105K / yr</td>\n",
       "      <td>NaN</td>\n",
       "      <td>df_jobs</td>\n",
       "      <td>NaN</td>\n",
       "      <td>NaN</td>\n",
       "    </tr>\n",
       "    <tr>\n",
       "      <th>...</th>\n",
       "      <td>...</td>\n",
       "      <td>...</td>\n",
       "      <td>...</td>\n",
       "      <td>...</td>\n",
       "      <td>...</td>\n",
       "      <td>...</td>\n",
       "      <td>...</td>\n",
       "      <td>...</td>\n",
       "      <td>...</td>\n",
       "    </tr>\n",
       "    <tr>\n",
       "      <th>45236</th>\n",
       "      <td>Technical Projet Manager (AWS DevOps)</td>\n",
       "      <td>Chicago, IL</td>\n",
       "      <td>ProIT Inc.</td>\n",
       "      <td>Contract</td>\n",
       "      <td>$55 - $60 an hour</td>\n",
       "      <td>NaN</td>\n",
       "      <td>job_market</td>\n",
       "      <td>NaN</td>\n",
       "      <td>NaN</td>\n",
       "    </tr>\n",
       "    <tr>\n",
       "      <th>45237</th>\n",
       "      <td>Sr Manager -IT App Dev Fuel Management</td>\n",
       "      <td>Chicago, IL</td>\n",
       "      <td>United Airlines</td>\n",
       "      <td>Full-time</td>\n",
       "      <td>$137,275 - $187,000 a year</td>\n",
       "      <td>NaN</td>\n",
       "      <td>job_market</td>\n",
       "      <td>NaN</td>\n",
       "      <td>NaN</td>\n",
       "    </tr>\n",
       "    <tr>\n",
       "      <th>45238</th>\n",
       "      <td>Senior DevSecOps Engineer/RPA Senior Product E...</td>\n",
       "      <td>Chicago, IL</td>\n",
       "      <td>Professional Solutions Delivered, LLC</td>\n",
       "      <td>unknown</td>\n",
       "      <td>$125,000 - $140,000 a year</td>\n",
       "      <td>NaN</td>\n",
       "      <td>job_market</td>\n",
       "      <td>NaN</td>\n",
       "      <td>NaN</td>\n",
       "    </tr>\n",
       "    <tr>\n",
       "      <th>45239</th>\n",
       "      <td>VP, AWS Cloud Architect</td>\n",
       "      <td>Chicago, IL</td>\n",
       "      <td>Synchrony</td>\n",
       "      <td>unknown</td>\n",
       "      <td>$130,000 - $210,000 a year</td>\n",
       "      <td>NaN</td>\n",
       "      <td>job_market</td>\n",
       "      <td>NaN</td>\n",
       "      <td>NaN</td>\n",
       "    </tr>\n",
       "    <tr>\n",
       "      <th>45240</th>\n",
       "      <td>Solutions Architect III - AWS</td>\n",
       "      <td>Chicago, IL</td>\n",
       "      <td>Tek Ninjas</td>\n",
       "      <td>Contract</td>\n",
       "      <td>Estimated: $135K - $171K a year</td>\n",
       "      <td>NaN</td>\n",
       "      <td>job_market</td>\n",
       "      <td>NaN</td>\n",
       "      <td>NaN</td>\n",
       "    </tr>\n",
       "  </tbody>\n",
       "</table>\n",
       "<p>45241 rows × 9 columns</p>\n",
       "</div>"
      ],
      "text/plain": [
       "                                                   Title         Location  \\\n",
       "0                         Cybersecurity Systems Engineer  Des Plaines, IL   \n",
       "1                                Staff Software Engineer       Skokie, IL   \n",
       "2                         Software Development Team Lead   Burr Ridge, IL   \n",
       "3      Lead Software Engineer - Full Stack - Java/Rea...      Chicago, IL   \n",
       "4                             CNC Manufacturing Engineer      Chicago, IL   \n",
       "...                                                  ...              ...   \n",
       "45236              Technical Projet Manager (AWS DevOps)      Chicago, IL   \n",
       "45237             Sr Manager -IT App Dev Fuel Management      Chicago, IL   \n",
       "45238  Senior DevSecOps Engineer/RPA Senior Product E...      Chicago, IL   \n",
       "45239                            VP, AWS Cloud Architect      Chicago, IL   \n",
       "45240                      Solutions Architect III - AWS      Chicago, IL   \n",
       "\n",
       "                                     Company   Job_Type  \\\n",
       "0           Kranze Technology Solutions, Inc  Full-time   \n",
       "1                                      Jobot  Full-time   \n",
       "2                                Uline, Inc.  Full-time   \n",
       "3                              JPMorganChase  Full-time   \n",
       "4                            Aegis Worldwide  Full-time   \n",
       "...                                      ...        ...   \n",
       "45236                             ProIT Inc.   Contract   \n",
       "45237                        United Airlines  Full-time   \n",
       "45238  Professional Solutions Delivered, LLC    unknown   \n",
       "45239                              Synchrony    unknown   \n",
       "45240                             Tek Ninjas   Contract   \n",
       "\n",
       "                                Salary Description      source  \\\n",
       "0                                  NaN         NaN     df_jobs   \n",
       "1                   $130K - $190K / yr         NaN     df_jobs   \n",
       "2                                  NaN         NaN     df_jobs   \n",
       "3                                  NaN         NaN     df_jobs   \n",
       "4                    $90K - $105K / yr         NaN     df_jobs   \n",
       "...                                ...         ...         ...   \n",
       "45236                $55 - $60 an hour         NaN  job_market   \n",
       "45237       $137,275 - $187,000 a year         NaN  job_market   \n",
       "45238       $125,000 - $140,000 a year         NaN  job_market   \n",
       "45239       $130,000 - $210,000 a year         NaN  job_market   \n",
       "45240  Estimated: $135K - $171K a year         NaN  job_market   \n",
       "\n",
       "      job_description  Unnamed: 0  \n",
       "0                 NaN         NaN  \n",
       "1                 NaN         NaN  \n",
       "2                 NaN         NaN  \n",
       "3                 NaN         NaN  \n",
       "4                 NaN         NaN  \n",
       "...               ...         ...  \n",
       "45236             NaN         NaN  \n",
       "45237             NaN         NaN  \n",
       "45238             NaN         NaN  \n",
       "45239             NaN         NaN  \n",
       "45240             NaN         NaN  \n",
       "\n",
       "[45241 rows x 9 columns]"
      ]
     },
     "execution_count": 22,
     "metadata": {},
     "output_type": "execute_result"
    }
   ],
   "source": [
    "df"
   ]
  },
  {
   "cell_type": "code",
   "execution_count": 23,
   "id": "c30acfd40c57de2d",
   "metadata": {
    "ExecuteTime": {
     "end_time": "2025-05-23T23:08:12.937957Z",
     "start_time": "2025-05-23T23:08:12.918792Z"
    }
   },
   "outputs": [],
   "source": [
    "df_salary_clean = df.dropna(subset=['Salary']).copy()"
   ]
  },
  {
   "cell_type": "code",
   "execution_count": 24,
   "id": "7c2a1223181b0b16",
   "metadata": {
    "ExecuteTime": {
     "end_time": "2025-05-23T23:08:12.999887Z",
     "start_time": "2025-05-23T23:08:12.992190Z"
    }
   },
   "outputs": [],
   "source": [
    "import re\n",
    "\n",
    "def extract_salary_range(s):\n",
    "    if pd.isna(s):\n",
    "        return pd.Series([None, None])\n",
    "\n",
    "    s_clean = s.replace('$', '').replace(',', '').lower()\n",
    "    match = re.findall(r'(\\d+(?:\\.\\d+)?)([kKmM]?)', s_clean)\n",
    "\n",
    "    if not match:\n",
    "        return pd.Series([None, None])\n",
    "\n",
    "    values = []\n",
    "    for val, suffix in match:\n",
    "        num = float(val)\n",
    "        if suffix == 'k':\n",
    "            num *= 1_000\n",
    "        elif suffix == 'm':\n",
    "            num *= 1_000_000\n",
    "        values.append(num)\n",
    "\n",
    "    if len(values) == 1:\n",
    "        return pd.Series([values[0], values[0]])\n",
    "    elif len(values) >= 2:\n",
    "        return pd.Series([min(values[:2]), max(values[:2])])\n",
    "    else:\n",
    "        return pd.Series([None, None])"
   ]
  },
  {
   "cell_type": "code",
   "execution_count": 25,
   "id": "f429a32cacd84ce7",
   "metadata": {
    "ExecuteTime": {
     "end_time": "2025-05-23T23:08:15.402292Z",
     "start_time": "2025-05-23T23:08:13.138628Z"
    }
   },
   "outputs": [
    {
     "data": {
      "text/html": [
       "<div>\n",
       "<style scoped>\n",
       "    .dataframe tbody tr th:only-of-type {\n",
       "        vertical-align: middle;\n",
       "    }\n",
       "\n",
       "    .dataframe tbody tr th {\n",
       "        vertical-align: top;\n",
       "    }\n",
       "\n",
       "    .dataframe thead th {\n",
       "        text-align: right;\n",
       "    }\n",
       "</style>\n",
       "<table border=\"1\" class=\"dataframe\">\n",
       "  <thead>\n",
       "    <tr style=\"text-align: right;\">\n",
       "      <th></th>\n",
       "      <th>Title</th>\n",
       "      <th>Location</th>\n",
       "      <th>Company</th>\n",
       "      <th>Job_Type</th>\n",
       "      <th>Salary</th>\n",
       "      <th>Description</th>\n",
       "      <th>source</th>\n",
       "      <th>job_description</th>\n",
       "      <th>Unnamed: 0</th>\n",
       "      <th>Min_Salary</th>\n",
       "      <th>Max_Salary</th>\n",
       "    </tr>\n",
       "  </thead>\n",
       "  <tbody>\n",
       "    <tr>\n",
       "      <th>1</th>\n",
       "      <td>Staff Software Engineer</td>\n",
       "      <td>Skokie, IL</td>\n",
       "      <td>Jobot</td>\n",
       "      <td>Full-time</td>\n",
       "      <td>$130K - $190K / yr</td>\n",
       "      <td>NaN</td>\n",
       "      <td>df_jobs</td>\n",
       "      <td>NaN</td>\n",
       "      <td>NaN</td>\n",
       "      <td>130000.0</td>\n",
       "      <td>190000.0</td>\n",
       "    </tr>\n",
       "    <tr>\n",
       "      <th>4</th>\n",
       "      <td>CNC Manufacturing Engineer</td>\n",
       "      <td>Chicago, IL</td>\n",
       "      <td>Aegis Worldwide</td>\n",
       "      <td>Full-time</td>\n",
       "      <td>$90K - $105K / yr</td>\n",
       "      <td>NaN</td>\n",
       "      <td>df_jobs</td>\n",
       "      <td>NaN</td>\n",
       "      <td>NaN</td>\n",
       "      <td>90000.0</td>\n",
       "      <td>105000.0</td>\n",
       "    </tr>\n",
       "    <tr>\n",
       "      <th>7</th>\n",
       "      <td>Coordinate Measuring Machine Programmer</td>\n",
       "      <td>Skokie, IL</td>\n",
       "      <td>OPW</td>\n",
       "      <td>Full-time</td>\n",
       "      <td>$28 - $37 / hr</td>\n",
       "      <td>NaN</td>\n",
       "      <td>df_jobs</td>\n",
       "      <td>NaN</td>\n",
       "      <td>NaN</td>\n",
       "      <td>28.0</td>\n",
       "      <td>37.0</td>\n",
       "    </tr>\n",
       "    <tr>\n",
       "      <th>8</th>\n",
       "      <td>CNC 3D Programmer</td>\n",
       "      <td>Chicago, IL</td>\n",
       "      <td>Mercury Plastics, Inc</td>\n",
       "      <td>Full-time</td>\n",
       "      <td>$28 - $30 / hr</td>\n",
       "      <td>NaN</td>\n",
       "      <td>df_jobs</td>\n",
       "      <td>NaN</td>\n",
       "      <td>NaN</td>\n",
       "      <td>28.0</td>\n",
       "      <td>30.0</td>\n",
       "    </tr>\n",
       "    <tr>\n",
       "      <th>9</th>\n",
       "      <td>Structural Engineer</td>\n",
       "      <td>Chicago, IL</td>\n",
       "      <td>Mueller and Associates Consulting LLC</td>\n",
       "      <td>Full-time</td>\n",
       "      <td>$65K - $85K / yr</td>\n",
       "      <td>NaN</td>\n",
       "      <td>df_jobs</td>\n",
       "      <td>NaN</td>\n",
       "      <td>NaN</td>\n",
       "      <td>65000.0</td>\n",
       "      <td>85000.0</td>\n",
       "    </tr>\n",
       "    <tr>\n",
       "      <th>...</th>\n",
       "      <td>...</td>\n",
       "      <td>...</td>\n",
       "      <td>...</td>\n",
       "      <td>...</td>\n",
       "      <td>...</td>\n",
       "      <td>...</td>\n",
       "      <td>...</td>\n",
       "      <td>...</td>\n",
       "      <td>...</td>\n",
       "      <td>...</td>\n",
       "      <td>...</td>\n",
       "    </tr>\n",
       "    <tr>\n",
       "      <th>45236</th>\n",
       "      <td>Technical Projet Manager (AWS DevOps)</td>\n",
       "      <td>Chicago, IL</td>\n",
       "      <td>ProIT Inc.</td>\n",
       "      <td>Contract</td>\n",
       "      <td>$55 - $60 an hour</td>\n",
       "      <td>NaN</td>\n",
       "      <td>job_market</td>\n",
       "      <td>NaN</td>\n",
       "      <td>NaN</td>\n",
       "      <td>55.0</td>\n",
       "      <td>60.0</td>\n",
       "    </tr>\n",
       "    <tr>\n",
       "      <th>45237</th>\n",
       "      <td>Sr Manager -IT App Dev Fuel Management</td>\n",
       "      <td>Chicago, IL</td>\n",
       "      <td>United Airlines</td>\n",
       "      <td>Full-time</td>\n",
       "      <td>$137,275 - $187,000 a year</td>\n",
       "      <td>NaN</td>\n",
       "      <td>job_market</td>\n",
       "      <td>NaN</td>\n",
       "      <td>NaN</td>\n",
       "      <td>137275.0</td>\n",
       "      <td>187000.0</td>\n",
       "    </tr>\n",
       "    <tr>\n",
       "      <th>45238</th>\n",
       "      <td>Senior DevSecOps Engineer/RPA Senior Product E...</td>\n",
       "      <td>Chicago, IL</td>\n",
       "      <td>Professional Solutions Delivered, LLC</td>\n",
       "      <td>unknown</td>\n",
       "      <td>$125,000 - $140,000 a year</td>\n",
       "      <td>NaN</td>\n",
       "      <td>job_market</td>\n",
       "      <td>NaN</td>\n",
       "      <td>NaN</td>\n",
       "      <td>125000.0</td>\n",
       "      <td>140000.0</td>\n",
       "    </tr>\n",
       "    <tr>\n",
       "      <th>45239</th>\n",
       "      <td>VP, AWS Cloud Architect</td>\n",
       "      <td>Chicago, IL</td>\n",
       "      <td>Synchrony</td>\n",
       "      <td>unknown</td>\n",
       "      <td>$130,000 - $210,000 a year</td>\n",
       "      <td>NaN</td>\n",
       "      <td>job_market</td>\n",
       "      <td>NaN</td>\n",
       "      <td>NaN</td>\n",
       "      <td>130000.0</td>\n",
       "      <td>210000.0</td>\n",
       "    </tr>\n",
       "    <tr>\n",
       "      <th>45240</th>\n",
       "      <td>Solutions Architect III - AWS</td>\n",
       "      <td>Chicago, IL</td>\n",
       "      <td>Tek Ninjas</td>\n",
       "      <td>Contract</td>\n",
       "      <td>Estimated: $135K - $171K a year</td>\n",
       "      <td>NaN</td>\n",
       "      <td>job_market</td>\n",
       "      <td>NaN</td>\n",
       "      <td>NaN</td>\n",
       "      <td>135000.0</td>\n",
       "      <td>171000.0</td>\n",
       "    </tr>\n",
       "  </tbody>\n",
       "</table>\n",
       "<p>24556 rows × 11 columns</p>\n",
       "</div>"
      ],
      "text/plain": [
       "                                                   Title     Location  \\\n",
       "1                                Staff Software Engineer   Skokie, IL   \n",
       "4                             CNC Manufacturing Engineer  Chicago, IL   \n",
       "7                Coordinate Measuring Machine Programmer   Skokie, IL   \n",
       "8                                      CNC 3D Programmer  Chicago, IL   \n",
       "9                                    Structural Engineer  Chicago, IL   \n",
       "...                                                  ...          ...   \n",
       "45236              Technical Projet Manager (AWS DevOps)  Chicago, IL   \n",
       "45237             Sr Manager -IT App Dev Fuel Management  Chicago, IL   \n",
       "45238  Senior DevSecOps Engineer/RPA Senior Product E...  Chicago, IL   \n",
       "45239                            VP, AWS Cloud Architect  Chicago, IL   \n",
       "45240                      Solutions Architect III - AWS  Chicago, IL   \n",
       "\n",
       "                                     Company   Job_Type  \\\n",
       "1                                      Jobot  Full-time   \n",
       "4                            Aegis Worldwide  Full-time   \n",
       "7                                        OPW  Full-time   \n",
       "8                      Mercury Plastics, Inc  Full-time   \n",
       "9      Mueller and Associates Consulting LLC  Full-time   \n",
       "...                                      ...        ...   \n",
       "45236                             ProIT Inc.   Contract   \n",
       "45237                        United Airlines  Full-time   \n",
       "45238  Professional Solutions Delivered, LLC    unknown   \n",
       "45239                              Synchrony    unknown   \n",
       "45240                             Tek Ninjas   Contract   \n",
       "\n",
       "                                Salary Description      source  \\\n",
       "1                   $130K - $190K / yr         NaN     df_jobs   \n",
       "4                    $90K - $105K / yr         NaN     df_jobs   \n",
       "7                       $28 - $37 / hr         NaN     df_jobs   \n",
       "8                       $28 - $30 / hr         NaN     df_jobs   \n",
       "9                     $65K - $85K / yr         NaN     df_jobs   \n",
       "...                                ...         ...         ...   \n",
       "45236                $55 - $60 an hour         NaN  job_market   \n",
       "45237       $137,275 - $187,000 a year         NaN  job_market   \n",
       "45238       $125,000 - $140,000 a year         NaN  job_market   \n",
       "45239       $130,000 - $210,000 a year         NaN  job_market   \n",
       "45240  Estimated: $135K - $171K a year         NaN  job_market   \n",
       "\n",
       "      job_description  Unnamed: 0  Min_Salary  Max_Salary  \n",
       "1                 NaN         NaN    130000.0    190000.0  \n",
       "4                 NaN         NaN     90000.0    105000.0  \n",
       "7                 NaN         NaN        28.0        37.0  \n",
       "8                 NaN         NaN        28.0        30.0  \n",
       "9                 NaN         NaN     65000.0     85000.0  \n",
       "...               ...         ...         ...         ...  \n",
       "45236             NaN         NaN        55.0        60.0  \n",
       "45237             NaN         NaN    137275.0    187000.0  \n",
       "45238             NaN         NaN    125000.0    140000.0  \n",
       "45239             NaN         NaN    130000.0    210000.0  \n",
       "45240             NaN         NaN    135000.0    171000.0  \n",
       "\n",
       "[24556 rows x 11 columns]"
      ]
     },
     "execution_count": 25,
     "metadata": {},
     "output_type": "execute_result"
    }
   ],
   "source": [
    "df_salary_clean[['Min_Salary', 'Max_Salary']] = df_salary_clean['Salary'].apply(extract_salary_range)\n",
    "df_salary_clean"
   ]
  },
  {
   "cell_type": "code",
   "execution_count": 26,
   "id": "58dd069b7d0be816",
   "metadata": {
    "ExecuteTime": {
     "end_time": "2025-05-23T23:08:15.465597Z",
     "start_time": "2025-05-23T23:08:15.458287Z"
    }
   },
   "outputs": [],
   "source": [
    "def normalize_salary(value):\n",
    "    if pd.isna(value):\n",
    "        return None\n",
    "    try:\n",
    "        # Count number of digits before the decimal point\n",
    "        digits = len(str(int(value)))\n",
    "        if digits <= 3:\n",
    "            return value * 2080  # Convert hourly to annual\n",
    "        return value  # Already annual\n",
    "    except:\n",
    "        return None"
   ]
  },
  {
   "cell_type": "code",
   "execution_count": 27,
   "id": "21a98ad7251ff9e5",
   "metadata": {
    "ExecuteTime": {
     "end_time": "2025-05-23T23:08:15.625052Z",
     "start_time": "2025-05-23T23:08:15.522983Z"
    }
   },
   "outputs": [],
   "source": [
    "df_salary_clean['Min_Salary'] = df_salary_clean['Min_Salary'].apply(normalize_salary)\n",
    "df_salary_clean['Max_Salary'] = df_salary_clean['Max_Salary'].apply(normalize_salary)"
   ]
  },
  {
   "cell_type": "code",
   "execution_count": 28,
   "id": "e724c33b2cbb2a23",
   "metadata": {
    "ExecuteTime": {
     "end_time": "2025-05-23T23:08:15.717265Z",
     "start_time": "2025-05-23T23:08:15.704756Z"
    }
   },
   "outputs": [],
   "source": [
    "df_salary_clean['Avg_Salary'] = df_salary_clean[['Min_Salary', 'Max_Salary']].mean(axis=1)"
   ]
  },
  {
   "cell_type": "code",
   "execution_count": 29,
   "id": "6cd9f410c1f2ea16",
   "metadata": {
    "ExecuteTime": {
     "end_time": "2025-05-23T23:08:15.777406Z",
     "start_time": "2025-05-23T23:08:15.726560Z"
    }
   },
   "outputs": [
    {
     "data": {
      "text/html": [
       "<div>\n",
       "<style scoped>\n",
       "    .dataframe tbody tr th:only-of-type {\n",
       "        vertical-align: middle;\n",
       "    }\n",
       "\n",
       "    .dataframe tbody tr th {\n",
       "        vertical-align: top;\n",
       "    }\n",
       "\n",
       "    .dataframe thead th {\n",
       "        text-align: right;\n",
       "    }\n",
       "</style>\n",
       "<table border=\"1\" class=\"dataframe\">\n",
       "  <thead>\n",
       "    <tr style=\"text-align: right;\">\n",
       "      <th></th>\n",
       "      <th>Title</th>\n",
       "      <th>Location</th>\n",
       "      <th>Company</th>\n",
       "      <th>Job_Type</th>\n",
       "      <th>Salary</th>\n",
       "      <th>Description</th>\n",
       "      <th>source</th>\n",
       "      <th>job_description</th>\n",
       "      <th>Unnamed: 0</th>\n",
       "      <th>Min_Salary</th>\n",
       "      <th>Max_Salary</th>\n",
       "      <th>Avg_Salary</th>\n",
       "    </tr>\n",
       "  </thead>\n",
       "  <tbody>\n",
       "    <tr>\n",
       "      <th>1</th>\n",
       "      <td>Staff Software Engineer</td>\n",
       "      <td>Skokie, IL</td>\n",
       "      <td>Jobot</td>\n",
       "      <td>Full-time</td>\n",
       "      <td>$130K - $190K / yr</td>\n",
       "      <td>NaN</td>\n",
       "      <td>df_jobs</td>\n",
       "      <td>NaN</td>\n",
       "      <td>NaN</td>\n",
       "      <td>130000.0</td>\n",
       "      <td>190000.0</td>\n",
       "      <td>160000.0</td>\n",
       "    </tr>\n",
       "    <tr>\n",
       "      <th>4</th>\n",
       "      <td>CNC Manufacturing Engineer</td>\n",
       "      <td>Chicago, IL</td>\n",
       "      <td>Aegis Worldwide</td>\n",
       "      <td>Full-time</td>\n",
       "      <td>$90K - $105K / yr</td>\n",
       "      <td>NaN</td>\n",
       "      <td>df_jobs</td>\n",
       "      <td>NaN</td>\n",
       "      <td>NaN</td>\n",
       "      <td>90000.0</td>\n",
       "      <td>105000.0</td>\n",
       "      <td>97500.0</td>\n",
       "    </tr>\n",
       "    <tr>\n",
       "      <th>7</th>\n",
       "      <td>Coordinate Measuring Machine Programmer</td>\n",
       "      <td>Skokie, IL</td>\n",
       "      <td>OPW</td>\n",
       "      <td>Full-time</td>\n",
       "      <td>$28 - $37 / hr</td>\n",
       "      <td>NaN</td>\n",
       "      <td>df_jobs</td>\n",
       "      <td>NaN</td>\n",
       "      <td>NaN</td>\n",
       "      <td>58240.0</td>\n",
       "      <td>76960.0</td>\n",
       "      <td>67600.0</td>\n",
       "    </tr>\n",
       "    <tr>\n",
       "      <th>8</th>\n",
       "      <td>CNC 3D Programmer</td>\n",
       "      <td>Chicago, IL</td>\n",
       "      <td>Mercury Plastics, Inc</td>\n",
       "      <td>Full-time</td>\n",
       "      <td>$28 - $30 / hr</td>\n",
       "      <td>NaN</td>\n",
       "      <td>df_jobs</td>\n",
       "      <td>NaN</td>\n",
       "      <td>NaN</td>\n",
       "      <td>58240.0</td>\n",
       "      <td>62400.0</td>\n",
       "      <td>60320.0</td>\n",
       "    </tr>\n",
       "    <tr>\n",
       "      <th>9</th>\n",
       "      <td>Structural Engineer</td>\n",
       "      <td>Chicago, IL</td>\n",
       "      <td>Mueller and Associates Consulting LLC</td>\n",
       "      <td>Full-time</td>\n",
       "      <td>$65K - $85K / yr</td>\n",
       "      <td>NaN</td>\n",
       "      <td>df_jobs</td>\n",
       "      <td>NaN</td>\n",
       "      <td>NaN</td>\n",
       "      <td>65000.0</td>\n",
       "      <td>85000.0</td>\n",
       "      <td>75000.0</td>\n",
       "    </tr>\n",
       "    <tr>\n",
       "      <th>...</th>\n",
       "      <td>...</td>\n",
       "      <td>...</td>\n",
       "      <td>...</td>\n",
       "      <td>...</td>\n",
       "      <td>...</td>\n",
       "      <td>...</td>\n",
       "      <td>...</td>\n",
       "      <td>...</td>\n",
       "      <td>...</td>\n",
       "      <td>...</td>\n",
       "      <td>...</td>\n",
       "      <td>...</td>\n",
       "    </tr>\n",
       "    <tr>\n",
       "      <th>45236</th>\n",
       "      <td>Technical Projet Manager (AWS DevOps)</td>\n",
       "      <td>Chicago, IL</td>\n",
       "      <td>ProIT Inc.</td>\n",
       "      <td>Contract</td>\n",
       "      <td>$55 - $60 an hour</td>\n",
       "      <td>NaN</td>\n",
       "      <td>job_market</td>\n",
       "      <td>NaN</td>\n",
       "      <td>NaN</td>\n",
       "      <td>114400.0</td>\n",
       "      <td>124800.0</td>\n",
       "      <td>119600.0</td>\n",
       "    </tr>\n",
       "    <tr>\n",
       "      <th>45237</th>\n",
       "      <td>Sr Manager -IT App Dev Fuel Management</td>\n",
       "      <td>Chicago, IL</td>\n",
       "      <td>United Airlines</td>\n",
       "      <td>Full-time</td>\n",
       "      <td>$137,275 - $187,000 a year</td>\n",
       "      <td>NaN</td>\n",
       "      <td>job_market</td>\n",
       "      <td>NaN</td>\n",
       "      <td>NaN</td>\n",
       "      <td>137275.0</td>\n",
       "      <td>187000.0</td>\n",
       "      <td>162137.5</td>\n",
       "    </tr>\n",
       "    <tr>\n",
       "      <th>45238</th>\n",
       "      <td>Senior DevSecOps Engineer/RPA Senior Product E...</td>\n",
       "      <td>Chicago, IL</td>\n",
       "      <td>Professional Solutions Delivered, LLC</td>\n",
       "      <td>unknown</td>\n",
       "      <td>$125,000 - $140,000 a year</td>\n",
       "      <td>NaN</td>\n",
       "      <td>job_market</td>\n",
       "      <td>NaN</td>\n",
       "      <td>NaN</td>\n",
       "      <td>125000.0</td>\n",
       "      <td>140000.0</td>\n",
       "      <td>132500.0</td>\n",
       "    </tr>\n",
       "    <tr>\n",
       "      <th>45239</th>\n",
       "      <td>VP, AWS Cloud Architect</td>\n",
       "      <td>Chicago, IL</td>\n",
       "      <td>Synchrony</td>\n",
       "      <td>unknown</td>\n",
       "      <td>$130,000 - $210,000 a year</td>\n",
       "      <td>NaN</td>\n",
       "      <td>job_market</td>\n",
       "      <td>NaN</td>\n",
       "      <td>NaN</td>\n",
       "      <td>130000.0</td>\n",
       "      <td>210000.0</td>\n",
       "      <td>170000.0</td>\n",
       "    </tr>\n",
       "    <tr>\n",
       "      <th>45240</th>\n",
       "      <td>Solutions Architect III - AWS</td>\n",
       "      <td>Chicago, IL</td>\n",
       "      <td>Tek Ninjas</td>\n",
       "      <td>Contract</td>\n",
       "      <td>Estimated: $135K - $171K a year</td>\n",
       "      <td>NaN</td>\n",
       "      <td>job_market</td>\n",
       "      <td>NaN</td>\n",
       "      <td>NaN</td>\n",
       "      <td>135000.0</td>\n",
       "      <td>171000.0</td>\n",
       "      <td>153000.0</td>\n",
       "    </tr>\n",
       "  </tbody>\n",
       "</table>\n",
       "<p>24556 rows × 12 columns</p>\n",
       "</div>"
      ],
      "text/plain": [
       "                                                   Title     Location  \\\n",
       "1                                Staff Software Engineer   Skokie, IL   \n",
       "4                             CNC Manufacturing Engineer  Chicago, IL   \n",
       "7                Coordinate Measuring Machine Programmer   Skokie, IL   \n",
       "8                                      CNC 3D Programmer  Chicago, IL   \n",
       "9                                    Structural Engineer  Chicago, IL   \n",
       "...                                                  ...          ...   \n",
       "45236              Technical Projet Manager (AWS DevOps)  Chicago, IL   \n",
       "45237             Sr Manager -IT App Dev Fuel Management  Chicago, IL   \n",
       "45238  Senior DevSecOps Engineer/RPA Senior Product E...  Chicago, IL   \n",
       "45239                            VP, AWS Cloud Architect  Chicago, IL   \n",
       "45240                      Solutions Architect III - AWS  Chicago, IL   \n",
       "\n",
       "                                     Company   Job_Type  \\\n",
       "1                                      Jobot  Full-time   \n",
       "4                            Aegis Worldwide  Full-time   \n",
       "7                                        OPW  Full-time   \n",
       "8                      Mercury Plastics, Inc  Full-time   \n",
       "9      Mueller and Associates Consulting LLC  Full-time   \n",
       "...                                      ...        ...   \n",
       "45236                             ProIT Inc.   Contract   \n",
       "45237                        United Airlines  Full-time   \n",
       "45238  Professional Solutions Delivered, LLC    unknown   \n",
       "45239                              Synchrony    unknown   \n",
       "45240                             Tek Ninjas   Contract   \n",
       "\n",
       "                                Salary Description      source  \\\n",
       "1                   $130K - $190K / yr         NaN     df_jobs   \n",
       "4                    $90K - $105K / yr         NaN     df_jobs   \n",
       "7                       $28 - $37 / hr         NaN     df_jobs   \n",
       "8                       $28 - $30 / hr         NaN     df_jobs   \n",
       "9                     $65K - $85K / yr         NaN     df_jobs   \n",
       "...                                ...         ...         ...   \n",
       "45236                $55 - $60 an hour         NaN  job_market   \n",
       "45237       $137,275 - $187,000 a year         NaN  job_market   \n",
       "45238       $125,000 - $140,000 a year         NaN  job_market   \n",
       "45239       $130,000 - $210,000 a year         NaN  job_market   \n",
       "45240  Estimated: $135K - $171K a year         NaN  job_market   \n",
       "\n",
       "      job_description  Unnamed: 0  Min_Salary  Max_Salary  Avg_Salary  \n",
       "1                 NaN         NaN    130000.0    190000.0    160000.0  \n",
       "4                 NaN         NaN     90000.0    105000.0     97500.0  \n",
       "7                 NaN         NaN     58240.0     76960.0     67600.0  \n",
       "8                 NaN         NaN     58240.0     62400.0     60320.0  \n",
       "9                 NaN         NaN     65000.0     85000.0     75000.0  \n",
       "...               ...         ...         ...         ...         ...  \n",
       "45236             NaN         NaN    114400.0    124800.0    119600.0  \n",
       "45237             NaN         NaN    137275.0    187000.0    162137.5  \n",
       "45238             NaN         NaN    125000.0    140000.0    132500.0  \n",
       "45239             NaN         NaN    130000.0    210000.0    170000.0  \n",
       "45240             NaN         NaN    135000.0    171000.0    153000.0  \n",
       "\n",
       "[24556 rows x 12 columns]"
      ]
     },
     "execution_count": 29,
     "metadata": {},
     "output_type": "execute_result"
    }
   ],
   "source": [
    "df_salary_clean"
   ]
  },
  {
   "cell_type": "code",
   "execution_count": 30,
   "id": "14539fc0a3d54e54",
   "metadata": {
    "ExecuteTime": {
     "end_time": "2025-05-23T23:08:15.866895Z",
     "start_time": "2025-05-23T23:08:15.855664Z"
    }
   },
   "outputs": [],
   "source": [
    "df_salary_clean = df_salary_clean[df_salary_clean['Avg_Salary'] != 0]"
   ]
  },
  {
   "cell_type": "code",
   "execution_count": 31,
   "id": "9105b8e859947ee",
   "metadata": {
    "ExecuteTime": {
     "end_time": "2025-05-23T23:08:16.017374Z",
     "start_time": "2025-05-23T23:08:15.995003Z"
    }
   },
   "outputs": [
    {
     "data": {
      "text/html": [
       "<div>\n",
       "<style scoped>\n",
       "    .dataframe tbody tr th:only-of-type {\n",
       "        vertical-align: middle;\n",
       "    }\n",
       "\n",
       "    .dataframe tbody tr th {\n",
       "        vertical-align: top;\n",
       "    }\n",
       "\n",
       "    .dataframe thead th {\n",
       "        text-align: right;\n",
       "    }\n",
       "</style>\n",
       "<table border=\"1\" class=\"dataframe\">\n",
       "  <thead>\n",
       "    <tr style=\"text-align: right;\">\n",
       "      <th></th>\n",
       "      <th>Title</th>\n",
       "      <th>Location</th>\n",
       "      <th>Company</th>\n",
       "      <th>Job_Type</th>\n",
       "      <th>Salary</th>\n",
       "      <th>Description</th>\n",
       "      <th>source</th>\n",
       "      <th>job_description</th>\n",
       "      <th>Unnamed: 0</th>\n",
       "      <th>Min_Salary</th>\n",
       "      <th>Max_Salary</th>\n",
       "      <th>Avg_Salary</th>\n",
       "    </tr>\n",
       "  </thead>\n",
       "  <tbody>\n",
       "    <tr>\n",
       "      <th>1</th>\n",
       "      <td>Staff Software Engineer</td>\n",
       "      <td>Skokie, IL</td>\n",
       "      <td>Jobot</td>\n",
       "      <td>Full-time</td>\n",
       "      <td>$130K - $190K / yr</td>\n",
       "      <td>NaN</td>\n",
       "      <td>df_jobs</td>\n",
       "      <td>NaN</td>\n",
       "      <td>NaN</td>\n",
       "      <td>130000.0</td>\n",
       "      <td>190000.0</td>\n",
       "      <td>160000.0</td>\n",
       "    </tr>\n",
       "    <tr>\n",
       "      <th>4</th>\n",
       "      <td>CNC Manufacturing Engineer</td>\n",
       "      <td>Chicago, IL</td>\n",
       "      <td>Aegis Worldwide</td>\n",
       "      <td>Full-time</td>\n",
       "      <td>$90K - $105K / yr</td>\n",
       "      <td>NaN</td>\n",
       "      <td>df_jobs</td>\n",
       "      <td>NaN</td>\n",
       "      <td>NaN</td>\n",
       "      <td>90000.0</td>\n",
       "      <td>105000.0</td>\n",
       "      <td>97500.0</td>\n",
       "    </tr>\n",
       "    <tr>\n",
       "      <th>7</th>\n",
       "      <td>Coordinate Measuring Machine Programmer</td>\n",
       "      <td>Skokie, IL</td>\n",
       "      <td>OPW</td>\n",
       "      <td>Full-time</td>\n",
       "      <td>$28 - $37 / hr</td>\n",
       "      <td>NaN</td>\n",
       "      <td>df_jobs</td>\n",
       "      <td>NaN</td>\n",
       "      <td>NaN</td>\n",
       "      <td>58240.0</td>\n",
       "      <td>76960.0</td>\n",
       "      <td>67600.0</td>\n",
       "    </tr>\n",
       "    <tr>\n",
       "      <th>8</th>\n",
       "      <td>CNC 3D Programmer</td>\n",
       "      <td>Chicago, IL</td>\n",
       "      <td>Mercury Plastics, Inc</td>\n",
       "      <td>Full-time</td>\n",
       "      <td>$28 - $30 / hr</td>\n",
       "      <td>NaN</td>\n",
       "      <td>df_jobs</td>\n",
       "      <td>NaN</td>\n",
       "      <td>NaN</td>\n",
       "      <td>58240.0</td>\n",
       "      <td>62400.0</td>\n",
       "      <td>60320.0</td>\n",
       "    </tr>\n",
       "    <tr>\n",
       "      <th>9</th>\n",
       "      <td>Structural Engineer</td>\n",
       "      <td>Chicago, IL</td>\n",
       "      <td>Mueller and Associates Consulting LLC</td>\n",
       "      <td>Full-time</td>\n",
       "      <td>$65K - $85K / yr</td>\n",
       "      <td>NaN</td>\n",
       "      <td>df_jobs</td>\n",
       "      <td>NaN</td>\n",
       "      <td>NaN</td>\n",
       "      <td>65000.0</td>\n",
       "      <td>85000.0</td>\n",
       "      <td>75000.0</td>\n",
       "    </tr>\n",
       "    <tr>\n",
       "      <th>...</th>\n",
       "      <td>...</td>\n",
       "      <td>...</td>\n",
       "      <td>...</td>\n",
       "      <td>...</td>\n",
       "      <td>...</td>\n",
       "      <td>...</td>\n",
       "      <td>...</td>\n",
       "      <td>...</td>\n",
       "      <td>...</td>\n",
       "      <td>...</td>\n",
       "      <td>...</td>\n",
       "      <td>...</td>\n",
       "    </tr>\n",
       "    <tr>\n",
       "      <th>45236</th>\n",
       "      <td>Technical Projet Manager (AWS DevOps)</td>\n",
       "      <td>Chicago, IL</td>\n",
       "      <td>ProIT Inc.</td>\n",
       "      <td>Contract</td>\n",
       "      <td>$55 - $60 an hour</td>\n",
       "      <td>NaN</td>\n",
       "      <td>job_market</td>\n",
       "      <td>NaN</td>\n",
       "      <td>NaN</td>\n",
       "      <td>114400.0</td>\n",
       "      <td>124800.0</td>\n",
       "      <td>119600.0</td>\n",
       "    </tr>\n",
       "    <tr>\n",
       "      <th>45237</th>\n",
       "      <td>Sr Manager -IT App Dev Fuel Management</td>\n",
       "      <td>Chicago, IL</td>\n",
       "      <td>United Airlines</td>\n",
       "      <td>Full-time</td>\n",
       "      <td>$137,275 - $187,000 a year</td>\n",
       "      <td>NaN</td>\n",
       "      <td>job_market</td>\n",
       "      <td>NaN</td>\n",
       "      <td>NaN</td>\n",
       "      <td>137275.0</td>\n",
       "      <td>187000.0</td>\n",
       "      <td>162137.5</td>\n",
       "    </tr>\n",
       "    <tr>\n",
       "      <th>45238</th>\n",
       "      <td>Senior DevSecOps Engineer/RPA Senior Product E...</td>\n",
       "      <td>Chicago, IL</td>\n",
       "      <td>Professional Solutions Delivered, LLC</td>\n",
       "      <td>unknown</td>\n",
       "      <td>$125,000 - $140,000 a year</td>\n",
       "      <td>NaN</td>\n",
       "      <td>job_market</td>\n",
       "      <td>NaN</td>\n",
       "      <td>NaN</td>\n",
       "      <td>125000.0</td>\n",
       "      <td>140000.0</td>\n",
       "      <td>132500.0</td>\n",
       "    </tr>\n",
       "    <tr>\n",
       "      <th>45239</th>\n",
       "      <td>VP, AWS Cloud Architect</td>\n",
       "      <td>Chicago, IL</td>\n",
       "      <td>Synchrony</td>\n",
       "      <td>unknown</td>\n",
       "      <td>$130,000 - $210,000 a year</td>\n",
       "      <td>NaN</td>\n",
       "      <td>job_market</td>\n",
       "      <td>NaN</td>\n",
       "      <td>NaN</td>\n",
       "      <td>130000.0</td>\n",
       "      <td>210000.0</td>\n",
       "      <td>170000.0</td>\n",
       "    </tr>\n",
       "    <tr>\n",
       "      <th>45240</th>\n",
       "      <td>Solutions Architect III - AWS</td>\n",
       "      <td>Chicago, IL</td>\n",
       "      <td>Tek Ninjas</td>\n",
       "      <td>Contract</td>\n",
       "      <td>Estimated: $135K - $171K a year</td>\n",
       "      <td>NaN</td>\n",
       "      <td>job_market</td>\n",
       "      <td>NaN</td>\n",
       "      <td>NaN</td>\n",
       "      <td>135000.0</td>\n",
       "      <td>171000.0</td>\n",
       "      <td>153000.0</td>\n",
       "    </tr>\n",
       "  </tbody>\n",
       "</table>\n",
       "<p>24508 rows × 12 columns</p>\n",
       "</div>"
      ],
      "text/plain": [
       "                                                   Title     Location  \\\n",
       "1                                Staff Software Engineer   Skokie, IL   \n",
       "4                             CNC Manufacturing Engineer  Chicago, IL   \n",
       "7                Coordinate Measuring Machine Programmer   Skokie, IL   \n",
       "8                                      CNC 3D Programmer  Chicago, IL   \n",
       "9                                    Structural Engineer  Chicago, IL   \n",
       "...                                                  ...          ...   \n",
       "45236              Technical Projet Manager (AWS DevOps)  Chicago, IL   \n",
       "45237             Sr Manager -IT App Dev Fuel Management  Chicago, IL   \n",
       "45238  Senior DevSecOps Engineer/RPA Senior Product E...  Chicago, IL   \n",
       "45239                            VP, AWS Cloud Architect  Chicago, IL   \n",
       "45240                      Solutions Architect III - AWS  Chicago, IL   \n",
       "\n",
       "                                     Company   Job_Type  \\\n",
       "1                                      Jobot  Full-time   \n",
       "4                            Aegis Worldwide  Full-time   \n",
       "7                                        OPW  Full-time   \n",
       "8                      Mercury Plastics, Inc  Full-time   \n",
       "9      Mueller and Associates Consulting LLC  Full-time   \n",
       "...                                      ...        ...   \n",
       "45236                             ProIT Inc.   Contract   \n",
       "45237                        United Airlines  Full-time   \n",
       "45238  Professional Solutions Delivered, LLC    unknown   \n",
       "45239                              Synchrony    unknown   \n",
       "45240                             Tek Ninjas   Contract   \n",
       "\n",
       "                                Salary Description      source  \\\n",
       "1                   $130K - $190K / yr         NaN     df_jobs   \n",
       "4                    $90K - $105K / yr         NaN     df_jobs   \n",
       "7                       $28 - $37 / hr         NaN     df_jobs   \n",
       "8                       $28 - $30 / hr         NaN     df_jobs   \n",
       "9                     $65K - $85K / yr         NaN     df_jobs   \n",
       "...                                ...         ...         ...   \n",
       "45236                $55 - $60 an hour         NaN  job_market   \n",
       "45237       $137,275 - $187,000 a year         NaN  job_market   \n",
       "45238       $125,000 - $140,000 a year         NaN  job_market   \n",
       "45239       $130,000 - $210,000 a year         NaN  job_market   \n",
       "45240  Estimated: $135K - $171K a year         NaN  job_market   \n",
       "\n",
       "      job_description  Unnamed: 0  Min_Salary  Max_Salary  Avg_Salary  \n",
       "1                 NaN         NaN    130000.0    190000.0    160000.0  \n",
       "4                 NaN         NaN     90000.0    105000.0     97500.0  \n",
       "7                 NaN         NaN     58240.0     76960.0     67600.0  \n",
       "8                 NaN         NaN     58240.0     62400.0     60320.0  \n",
       "9                 NaN         NaN     65000.0     85000.0     75000.0  \n",
       "...               ...         ...         ...         ...         ...  \n",
       "45236             NaN         NaN    114400.0    124800.0    119600.0  \n",
       "45237             NaN         NaN    137275.0    187000.0    162137.5  \n",
       "45238             NaN         NaN    125000.0    140000.0    132500.0  \n",
       "45239             NaN         NaN    130000.0    210000.0    170000.0  \n",
       "45240             NaN         NaN    135000.0    171000.0    153000.0  \n",
       "\n",
       "[24508 rows x 12 columns]"
      ]
     },
     "execution_count": 31,
     "metadata": {},
     "output_type": "execute_result"
    }
   ],
   "source": [
    "df_salary_clean"
   ]
  },
  {
   "cell_type": "code",
   "execution_count": 32,
   "id": "c6bd082a3fb97b9a",
   "metadata": {
    "ExecuteTime": {
     "end_time": "2025-05-23T23:08:16.193955Z",
     "start_time": "2025-05-23T23:08:16.181503Z"
    }
   },
   "outputs": [
    {
     "data": {
      "text/plain": [
       "count     24379.000000\n",
       "mean     127821.752414\n",
       "std       67005.682265\n",
       "min        2100.000000\n",
       "25%       85500.000000\n",
       "50%      115000.000000\n",
       "75%      147500.000000\n",
       "max      700000.000000\n",
       "Name: Avg_Salary, dtype: float64"
      ]
     },
     "execution_count": 32,
     "metadata": {},
     "output_type": "execute_result"
    }
   ],
   "source": [
    "# Summary stats\n",
    "df_salary_clean['Avg_Salary'].describe()"
   ]
  },
  {
   "cell_type": "code",
   "execution_count": 33,
   "id": "e86df0b65332387d",
   "metadata": {
    "ExecuteTime": {
     "end_time": "2025-05-23T23:08:16.708077Z",
     "start_time": "2025-05-23T23:08:16.306163Z"
    }
   },
   "outputs": [
    {
     "data": {
      "image/png": "[encoded data removed]",
      "text/plain": [
       "<Figure size 1000x600 with 1 Axes>"
      ]
     },
     "metadata": {},
     "output_type": "display_data"
    }
   ],
   "source": [
    "# Plot salary distribution\n",
    "plt.figure(figsize=(10, 6))\n",
    "sns.histplot(df_salary_clean['Avg_Salary'], bins=40, kde=True, color='skyblue')\n",
    "plt.title('Distribution of Average Salaries')\n",
    "plt.xlabel('Average Salary (USD)')\n",
    "plt.ylabel('Number of Listings')\n",
    "plt.tight_layout()\n",
    "plt.show()"
   ]
  },
  {
   "cell_type": "code",
   "execution_count": 34,
   "id": "c12eeae26668c3c5",
   "metadata": {
    "ExecuteTime": {
     "end_time": "2025-05-23T23:08:17.084962Z",
     "start_time": "2025-05-23T23:08:16.752452Z"
    }
   },
   "outputs": [
    {
     "data": {
      "image/png": "[encoded data removed]",
      "text/plain": [
       "<Figure size 1000x600 with 1 Axes>"
      ]
     },
     "metadata": {},
     "output_type": "display_data"
    }
   ],
   "source": [
    "# Plot salary distribution\n",
    "plt.figure(figsize=(10, 6))\n",
    "sns.histplot(df_salary_clean['Max_Salary'], bins=40, kde=True, color='skyblue')\n",
    "plt.title('Distribution of Max Salaries')\n",
    "plt.xlabel('Max Salary (USD)')\n",
    "plt.ylabel('Number of Listings')\n",
    "plt.tight_layout()\n",
    "plt.show()"
   ]
  },
  {
   "cell_type": "code",
   "execution_count": 35,
   "id": "416f2efbdeb623fa",
   "metadata": {
    "ExecuteTime": {
     "end_time": "2025-05-23T23:08:17.421883Z",
     "start_time": "2025-05-23T23:08:17.103254Z"
    }
   },
   "outputs": [
    {
     "data": {
      "image/png": "[encoded data removed]",
      "text/plain": [
       "<Figure size 1000x600 with 1 Axes>"
      ]
     },
     "metadata": {},
     "output_type": "display_data"
    }
   ],
   "source": [
    "# Plot salary distribution\n",
    "plt.figure(figsize=(10, 6))\n",
    "sns.histplot(df_salary_clean['Min_Salary'], bins=40, kde=True, color='skyblue')\n",
    "plt.title('Distribution of Min Salaries')\n",
    "plt.xlabel('Min Salary (USD)')\n",
    "plt.ylabel('Number of Listings')\n",
    "plt.tight_layout()\n",
    "plt.show()"
   ]
  },
  {
   "cell_type": "markdown",
   "id": "d887c8b8e638b48b",
   "metadata": {},
   "source": [
    "## Text Analysis (NLP Light)"
   ]
  },
  {
   "cell_type": "markdown",
   "id": "a922611068178493",
   "metadata": {},
   "source": [
    "- Keyword Frequency: Top terms in job_description or Description.\n",
    "\n",
    "- Word Cloud: To visualize common requirements/skills.\n",
    "\n",
    "- Sentiment Analysis: On job descriptions, to gauge tone or marketing style."
   ]
  },
  {
   "cell_type": "code",
   "id": "394b9e8c1e6497fd",
   "metadata": {
    "ExecuteTime": {
     "end_time": "2025-05-24T00:06:36.705791Z",
     "start_time": "2025-05-24T00:06:36.697929Z"
    }
   },
   "source": [
    "SKILL_VARIATIONS = {\n",
    "    'python': {'python', 'python3', 'python 3', 'python programming'},\n",
    "    'java': {'java', 'java programming', 'java development'},\n",
    "    'javascript': {'javascript', 'js', 'ecmascript'},\n",
    "    'typescript': {'typescript'},\n",
    "    'c++': {'c++', 'cpp', 'c plus plus'},\n",
    "    'c#': {'c#', 'c sharp', 'csharp'},\n",
    "    'go': {'go', 'golang'},\n",
    "    'r': {'r', 'r programming'},\n",
    "    'react': {'react', 'reactjs', 'react.js'},\n",
    "    'angular': {'angular', 'angularjs'},\n",
    "    'django': {'django', 'django framework'},\n",
    "    'flask': {'flask', 'flask framework'},\n",
    "    'aws': {'aws', 'amazon web services'},\n",
    "    'azure': {'azure', 'microsoft azure'},\n",
    "    'gcp': {'gcp', 'google cloud'},\n",
    "    'docker': {'docker', 'docker container'},\n",
    "    'kubernetes': {'kubernetes', 'k8s'},\n",
    "    'ci/cd': {'ci/cd', 'cicd'},\n",
    "    'sql': {'sql', 'sql database'},\n",
    "    'postgresql': {'postgresql', 'postgres'},\n",
    "    'mongodb': {'mongodb', 'mongo'},\n",
    "    'mysql': {'mysql', 'mysql database'},\n",
    "    'redis': {'redis', 'redis cache'},\n",
    "    'git': {'git', 'git version control'},\n",
    "    'linux': {'linux', 'linux system'},\n",
    "    'excel': {'excel', 'microsoft excel'},\n",
    "    'api': {'api', 'rest api'},\n",
    "    'tableau': {'tableau', 'tableau bi'},\n",
    "    'power bi': {'power bi', 'powerbi'}\n",
    "}"
   ],
   "outputs": [],
   "execution_count": 223
  },
  {
   "cell_type": "code",
   "id": "e11badf69e20a156",
   "metadata": {
    "ExecuteTime": {
     "end_time": "2025-05-24T00:13:13.604569Z",
     "start_time": "2025-05-24T00:12:58.203194Z"
    }
   },
   "source": [
    "# Count occurrences of each skill (using all aliases)\n",
    "keyword_counts = {}\n",
    "\n",
    "for skill, variations in SKILL_VARIATIONS.items():\n",
    "    pattern = '|'.join([re.escape(v) for v in variations])\n",
    "    mask = df['Description'].str.contains(pattern, case=False, regex=True, na=False)\n",
    "    keyword_counts[skill] = mask.sum()\n",
    "\n",
    "manual_keyword_df = pd.DataFrame(keyword_counts.items(), columns=['Skill', 'Mentions'])\n",
    "manual_keyword_df = manual_keyword_df.sort_values(by='Mentions', ascending=False).reset_index(drop=True)"
   ],
   "outputs": [],
   "execution_count": 226
  },
  {
   "metadata": {},
   "cell_type": "markdown",
   "source": "#### Disclaimer: Had to use excel to look at a rough estimate of how many times these programming languages were appearing in the description since they are hard to use regex.",
   "id": "8bd020519e551265"
  },
  {
   "metadata": {
    "ExecuteTime": {
     "end_time": "2025-05-24T00:13:13.618668Z",
     "start_time": "2025-05-24T00:13:13.610308Z"
    }
   },
   "cell_type": "code",
   "source": [
    "manual_keyword_df.loc[manual_keyword_df['Skill'] == 'r', 'Mentions'] = 570\n",
    "manual_keyword_df.loc[manual_keyword_df['Skill'] == 'go', 'Mentions'] = 4245"
   ],
   "id": "552c680734e93f97",
   "outputs": [],
   "execution_count": 227
  },
  {
   "metadata": {
    "ExecuteTime": {
     "end_time": "2025-05-24T00:13:13.669417Z",
     "start_time": "2025-05-24T00:13:13.651913Z"
    }
   },
   "cell_type": "code",
   "source": [
    "# Display the results\n",
    "manual_keyword_df"
   ],
   "id": "95bb2be8d897cafa",
   "outputs": [
    {
     "data": {
      "text/plain": [
       "         Skill  Mentions\n",
       "0            r       570\n",
       "1           go      4245\n",
       "2        excel      8102\n",
       "3          api      6378\n",
       "4          sql      5878\n",
       "5         java      5287\n",
       "6       python      5032\n",
       "7   javascript      4846\n",
       "8          aws      4561\n",
       "9          git      4294\n",
       "10       azure      3999\n",
       "11       ci/cd      3439\n",
       "12       react      3198\n",
       "13          c#      2419\n",
       "14         gcp      2199\n",
       "15  kubernetes      2041\n",
       "16  typescript      1817\n",
       "17       linux      1592\n",
       "18         c++      1561\n",
       "19      docker      1380\n",
       "20    power bi      1263\n",
       "21     angular      1192\n",
       "22  postgresql       859\n",
       "23       mysql       815\n",
       "24     tableau       646\n",
       "25     mongodb       419\n",
       "26      django       189\n",
       "27       flask       154\n",
       "28       redis       114"
      ],
      "text/html": [
       "<div>\n",
       "<style scoped>\n",
       "    .dataframe tbody tr th:only-of-type {\n",
       "        vertical-align: middle;\n",
       "    }\n",
       "\n",
       "    .dataframe tbody tr th {\n",
       "        vertical-align: top;\n",
       "    }\n",
       "\n",
       "    .dataframe thead th {\n",
       "        text-align: right;\n",
       "    }\n",
       "</style>\n",
       "<table border=\"1\" class=\"dataframe\">\n",
       "  <thead>\n",
       "    <tr style=\"text-align: right;\">\n",
       "      <th></th>\n",
       "      <th>Skill</th>\n",
       "      <th>Mentions</th>\n",
       "    </tr>\n",
       "  </thead>\n",
       "  <tbody>\n",
       "    <tr>\n",
       "      <th>0</th>\n",
       "      <td>r</td>\n",
       "      <td>570</td>\n",
       "    </tr>\n",
       "    <tr>\n",
       "      <th>1</th>\n",
       "      <td>go</td>\n",
       "      <td>4245</td>\n",
       "    </tr>\n",
       "    <tr>\n",
       "      <th>2</th>\n",
       "      <td>excel</td>\n",
       "      <td>8102</td>\n",
       "    </tr>\n",
       "    <tr>\n",
       "      <th>3</th>\n",
       "      <td>api</td>\n",
       "      <td>6378</td>\n",
       "    </tr>\n",
       "    <tr>\n",
       "      <th>4</th>\n",
       "      <td>sql</td>\n",
       "      <td>5878</td>\n",
       "    </tr>\n",
       "    <tr>\n",
       "      <th>5</th>\n",
       "      <td>java</td>\n",
       "      <td>5287</td>\n",
       "    </tr>\n",
       "    <tr>\n",
       "      <th>6</th>\n",
       "      <td>python</td>\n",
       "      <td>5032</td>\n",
       "    </tr>\n",
       "    <tr>\n",
       "      <th>7</th>\n",
       "      <td>javascript</td>\n",
       "      <td>4846</td>\n",
       "    </tr>\n",
       "    <tr>\n",
       "      <th>8</th>\n",
       "      <td>aws</td>\n",
       "      <td>4561</td>\n",
       "    </tr>\n",
       "    <tr>\n",
       "      <th>9</th>\n",
       "      <td>git</td>\n",
       "      <td>4294</td>\n",
       "    </tr>\n",
       "    <tr>\n",
       "      <th>10</th>\n",
       "      <td>azure</td>\n",
       "      <td>3999</td>\n",
       "    </tr>\n",
       "    <tr>\n",
       "      <th>11</th>\n",
       "      <td>ci/cd</td>\n",
       "      <td>3439</td>\n",
       "    </tr>\n",
       "    <tr>\n",
       "      <th>12</th>\n",
       "      <td>react</td>\n",
       "      <td>3198</td>\n",
       "    </tr>\n",
       "    <tr>\n",
       "      <th>13</th>\n",
       "      <td>c#</td>\n",
       "      <td>2419</td>\n",
       "    </tr>\n",
       "    <tr>\n",
       "      <th>14</th>\n",
       "      <td>gcp</td>\n",
       "      <td>2199</td>\n",
       "    </tr>\n",
       "    <tr>\n",
       "      <th>15</th>\n",
       "      <td>kubernetes</td>\n",
       "      <td>2041</td>\n",
       "    </tr>\n",
       "    <tr>\n",
       "      <th>16</th>\n",
       "      <td>typescript</td>\n",
       "      <td>1817</td>\n",
       "    </tr>\n",
       "    <tr>\n",
       "      <th>17</th>\n",
       "      <td>linux</td>\n",
       "      <td>1592</td>\n",
       "    </tr>\n",
       "    <tr>\n",
       "      <th>18</th>\n",
       "      <td>c++</td>\n",
       "      <td>1561</td>\n",
       "    </tr>\n",
       "    <tr>\n",
       "      <th>19</th>\n",
       "      <td>docker</td>\n",
       "      <td>1380</td>\n",
       "    </tr>\n",
       "    <tr>\n",
       "      <th>20</th>\n",
       "      <td>power bi</td>\n",
       "      <td>1263</td>\n",
       "    </tr>\n",
       "    <tr>\n",
       "      <th>21</th>\n",
       "      <td>angular</td>\n",
       "      <td>1192</td>\n",
       "    </tr>\n",
       "    <tr>\n",
       "      <th>22</th>\n",
       "      <td>postgresql</td>\n",
       "      <td>859</td>\n",
       "    </tr>\n",
       "    <tr>\n",
       "      <th>23</th>\n",
       "      <td>mysql</td>\n",
       "      <td>815</td>\n",
       "    </tr>\n",
       "    <tr>\n",
       "      <th>24</th>\n",
       "      <td>tableau</td>\n",
       "      <td>646</td>\n",
       "    </tr>\n",
       "    <tr>\n",
       "      <th>25</th>\n",
       "      <td>mongodb</td>\n",
       "      <td>419</td>\n",
       "    </tr>\n",
       "    <tr>\n",
       "      <th>26</th>\n",
       "      <td>django</td>\n",
       "      <td>189</td>\n",
       "    </tr>\n",
       "    <tr>\n",
       "      <th>27</th>\n",
       "      <td>flask</td>\n",
       "      <td>154</td>\n",
       "    </tr>\n",
       "    <tr>\n",
       "      <th>28</th>\n",
       "      <td>redis</td>\n",
       "      <td>114</td>\n",
       "    </tr>\n",
       "  </tbody>\n",
       "</table>\n",
       "</div>"
      ]
     },
     "execution_count": 228,
     "metadata": {},
     "output_type": "execute_result"
    }
   ],
   "execution_count": 228
  },
  {
   "cell_type": "code",
   "id": "d40ab357116dbc0b",
   "metadata": {
    "ExecuteTime": {
     "end_time": "2025-05-24T00:13:36.386279Z",
     "start_time": "2025-05-24T00:13:36.350378Z"
    }
   },
   "source": [
    "# Count frequency of each tech skill\n",
    "all_skills = df['Tech_Skills'].explode()\n",
    "top_skills = all_skills.value_counts().nlargest(20).reset_index()\n",
    "top_skills.columns = ['Skill', 'Mentions']"
   ],
   "outputs": [],
   "execution_count": 229
  },
  {
   "cell_type": "code",
   "id": "9053de0669aa518",
   "metadata": {
    "ExecuteTime": {
     "end_time": "2025-05-24T00:13:37.077108Z",
     "start_time": "2025-05-24T00:13:37.066771Z"
    }
   },
   "source": [
    "top_skills"
   ],
   "outputs": [
    {
     "data": {
      "text/plain": [
       "         Skill  Mentions\n",
       "0        excel      8102\n",
       "1          api      6378\n",
       "2          sql      5878\n",
       "3       python      5032\n",
       "4          aws      4496\n",
       "5          git      4294\n",
       "6            c      4231\n",
       "7        azure      3999\n",
       "8        ci/cd      3400\n",
       "9   javascript      3361\n",
       "10       react      3198\n",
       "11        java      2690\n",
       "12         css      2238\n",
       "13        node      2141\n",
       "14  kubernetes      2040\n",
       "15          go      1918\n",
       "16  typescript      1817\n",
       "17        html      1745\n",
       "18           r      1733\n",
       "19       linux      1592"
      ],
      "text/html": [
       "<div>\n",
       "<style scoped>\n",
       "    .dataframe tbody tr th:only-of-type {\n",
       "        vertical-align: middle;\n",
       "    }\n",
       "\n",
       "    .dataframe tbody tr th {\n",
       "        vertical-align: top;\n",
       "    }\n",
       "\n",
       "    .dataframe thead th {\n",
       "        text-align: right;\n",
       "    }\n",
       "</style>\n",
       "<table border=\"1\" class=\"dataframe\">\n",
       "  <thead>\n",
       "    <tr style=\"text-align: right;\">\n",
       "      <th></th>\n",
       "      <th>Skill</th>\n",
       "      <th>Mentions</th>\n",
       "    </tr>\n",
       "  </thead>\n",
       "  <tbody>\n",
       "    <tr>\n",
       "      <th>0</th>\n",
       "      <td>excel</td>\n",
       "      <td>8102</td>\n",
       "    </tr>\n",
       "    <tr>\n",
       "      <th>1</th>\n",
       "      <td>api</td>\n",
       "      <td>6378</td>\n",
       "    </tr>\n",
       "    <tr>\n",
       "      <th>2</th>\n",
       "      <td>sql</td>\n",
       "      <td>5878</td>\n",
       "    </tr>\n",
       "    <tr>\n",
       "      <th>3</th>\n",
       "      <td>python</td>\n",
       "      <td>5032</td>\n",
       "    </tr>\n",
       "    <tr>\n",
       "      <th>4</th>\n",
       "      <td>aws</td>\n",
       "      <td>4496</td>\n",
       "    </tr>\n",
       "    <tr>\n",
       "      <th>5</th>\n",
       "      <td>git</td>\n",
       "      <td>4294</td>\n",
       "    </tr>\n",
       "    <tr>\n",
       "      <th>6</th>\n",
       "      <td>c</td>\n",
       "      <td>4231</td>\n",
       "    </tr>\n",
       "    <tr>\n",
       "      <th>7</th>\n",
       "      <td>azure</td>\n",
       "      <td>3999</td>\n",
       "    </tr>\n",
       "    <tr>\n",
       "      <th>8</th>\n",
       "      <td>ci/cd</td>\n",
       "      <td>3400</td>\n",
       "    </tr>\n",
       "    <tr>\n",
       "      <th>9</th>\n",
       "      <td>javascript</td>\n",
       "      <td>3361</td>\n",
       "    </tr>\n",
       "    <tr>\n",
       "      <th>10</th>\n",
       "      <td>react</td>\n",
       "      <td>3198</td>\n",
       "    </tr>\n",
       "    <tr>\n",
       "      <th>11</th>\n",
       "      <td>java</td>\n",
       "      <td>2690</td>\n",
       "    </tr>\n",
       "    <tr>\n",
       "      <th>12</th>\n",
       "      <td>css</td>\n",
       "      <td>2238</td>\n",
       "    </tr>\n",
       "    <tr>\n",
       "      <th>13</th>\n",
       "      <td>node</td>\n",
       "      <td>2141</td>\n",
       "    </tr>\n",
       "    <tr>\n",
       "      <th>14</th>\n",
       "      <td>kubernetes</td>\n",
       "      <td>2040</td>\n",
       "    </tr>\n",
       "    <tr>\n",
       "      <th>15</th>\n",
       "      <td>go</td>\n",
       "      <td>1918</td>\n",
       "    </tr>\n",
       "    <tr>\n",
       "      <th>16</th>\n",
       "      <td>typescript</td>\n",
       "      <td>1817</td>\n",
       "    </tr>\n",
       "    <tr>\n",
       "      <th>17</th>\n",
       "      <td>html</td>\n",
       "      <td>1745</td>\n",
       "    </tr>\n",
       "    <tr>\n",
       "      <th>18</th>\n",
       "      <td>r</td>\n",
       "      <td>1733</td>\n",
       "    </tr>\n",
       "    <tr>\n",
       "      <th>19</th>\n",
       "      <td>linux</td>\n",
       "      <td>1592</td>\n",
       "    </tr>\n",
       "  </tbody>\n",
       "</table>\n",
       "</div>"
      ]
     },
     "execution_count": 230,
     "metadata": {},
     "output_type": "execute_result"
    }
   ],
   "execution_count": 230
  },
  {
   "cell_type": "code",
   "execution_count": null,
   "id": "b9bc671b90b7c74f",
   "metadata": {
    "ExecuteTime": {
     "end_time": "2025-05-23T23:08:20.632538Z",
     "start_time": "2025-05-23T23:08:20.627444Z"
    }
   },
   "outputs": [],
   "source": []
  },
  {
   "cell_type": "code",
   "execution_count": null,
   "id": "616715e521b0b5f9",
   "metadata": {
    "ExecuteTime": {
     "end_time": "2025-05-23T23:08:20.658736Z",
     "start_time": "2025-05-23T23:08:20.655734Z"
    }
   },
   "outputs": [],
   "source": []
  },
  {
   "cell_type": "code",
   "execution_count": null,
   "id": "ec57322478a5023a",
   "metadata": {
    "ExecuteTime": {
     "end_time": "2025-05-23T23:08:20.763976Z",
     "start_time": "2025-05-23T23:08:20.761693Z"
    }
   },
   "outputs": [],
   "source": []
  },
  {
   "cell_type": "code",
   "execution_count": null,
   "id": "15746a525c8ee1b",
   "metadata": {
    "ExecuteTime": {
     "end_time": "2025-05-23T23:08:20.801668Z",
     "start_time": "2025-05-23T23:08:20.795091Z"
    }
   },
   "outputs": [],
   "source": []
  },
  {
   "cell_type": "code",
   "execution_count": null,
   "id": "700d5d05c95fa655",
   "metadata": {
    "ExecuteTime": {
     "end_time": "2025-05-23T23:08:20.871288Z",
     "start_time": "2025-05-23T23:08:20.866971Z"
    }
   },
   "outputs": [],
   "source": []
  }
 ],
 "metadata": {
  "kernelspec": {
   "display_name": ".venv",
   "language": "python",
   "name": "python3"
  },
  "language_info": {
   "codemirror_mode": {
    "name": "ipython",
    "version": 3
   },
   "file_extension": ".py",
   "mimetype": "text/x-python",
   "name": "python",
   "nbconvert_exporter": "python",
   "pygments_lexer": "ipython3",
   "version": "3.12.5"
  }
 },
 "nbformat": 4,
 "nbformat_minor": 5
}
