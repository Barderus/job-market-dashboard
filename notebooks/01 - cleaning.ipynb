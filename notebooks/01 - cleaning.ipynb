{
 "cells": [
  {
   "cell_type": "code",
   "id": "initial_id",
   "metadata": {
    "collapsed": true,
    "ExecuteTime": {
     "end_time": "2025-05-25T20:08:13.124081Z",
     "start_time": "2025-05-25T20:08:12.718407Z"
    }
   },
   "source": [
    "import pandas as pd\n",
    "import numpy as np"
   ],
   "outputs": [],
   "execution_count": 1
  },
  {
   "metadata": {},
   "cell_type": "markdown",
   "source": "## Load the all the data",
   "id": "b3bd3d7d41e923ec"
  },
  {
   "metadata": {
    "ExecuteTime": {
     "end_time": "2025-05-20T16:54:40.969183Z",
     "start_time": "2025-05-20T16:54:40.952865Z"
    }
   },
   "cell_type": "code",
   "source": [
    "df_jobs = pd.read_csv(\"../Data/raw/jobs.csv\")\n",
    "df_jobs.rename(columns={\"title\": \"Title\", \"job_location\":\"Location\", \"company_name\":\"Company\", \"job_type\":\"Job_Type\", \"job_salary\":\"Salary\"}, inplace=True)\n",
    "df_jobs[\"Description\"] = np.nan\n",
    "df_jobs.info()"
   ],
   "id": "94d65d0e57c88ac",
   "outputs": [
    {
     "name": "stdout",
     "output_type": "stream",
     "text": [
      "<class 'pandas.core.frame.DataFrame'>\n",
      "RangeIndex: 2966 entries, 0 to 2965\n",
      "Data columns (total 6 columns):\n",
      " #   Column       Non-Null Count  Dtype  \n",
      "---  ------       --------------  -----  \n",
      " 0   Title        2966 non-null   object \n",
      " 1   Location     2966 non-null   object \n",
      " 2   Company      2966 non-null   object \n",
      " 3   Job_Type     2434 non-null   object \n",
      " 4   Salary       1544 non-null   object \n",
      " 5   Description  0 non-null      float64\n",
      "dtypes: float64(1), object(5)\n",
      "memory usage: 139.2+ KB\n"
     ]
    }
   ],
   "execution_count": 126
  },
  {
   "metadata": {
    "ExecuteTime": {
     "end_time": "2025-05-20T16:54:41.480822Z",
     "start_time": "2025-05-20T16:54:40.975397Z"
    }
   },
   "cell_type": "code",
   "source": [
    "df_jobs1 = pd.read_csv(\"../Data/raw/jobs1.csv\")\n",
    "df_jobs1.rename(columns={\"title\": \"Title\", \"job_location\":\"Location\", \"company_name\":\"Company\", \"job_type\":\"Job_Type\", \"job_salary\":\"Salary\"}, inplace=True)\n",
    "df_jobs1[\"Description\"] = np.nan\n",
    "df_jobs1.info()"
   ],
   "id": "5ea4b627e4f6b59e",
   "outputs": [
    {
     "name": "stdout",
     "output_type": "stream",
     "text": [
      "<class 'pandas.core.frame.DataFrame'>\n",
      "RangeIndex: 14862 entries, 0 to 14861\n",
      "Data columns (total 7 columns):\n",
      " #   Column           Non-Null Count  Dtype  \n",
      "---  ------           --------------  -----  \n",
      " 0   Title            14862 non-null  object \n",
      " 1   Location         14862 non-null  object \n",
      " 2   Company          14862 non-null  object \n",
      " 3   Job_Type         7078 non-null   object \n",
      " 4   job_description  14862 non-null  object \n",
      " 5   Salary           6311 non-null   object \n",
      " 6   Description      0 non-null      float64\n",
      "dtypes: float64(1), object(6)\n",
      "memory usage: 812.9+ KB\n"
     ]
    }
   ],
   "execution_count": 127
  },
  {
   "metadata": {
    "ExecuteTime": {
     "end_time": "2025-05-20T16:54:41.525834Z",
     "start_time": "2025-05-20T16:54:41.516517Z"
    }
   },
   "cell_type": "code",
   "source": [
    "df_jobs2 = pd.read_csv(\"../Data/raw/jobs2.csv\")\n",
    "df_jobs2.rename(columns={\"title\": \"Title\", \"job_location\":\"Location\", \"company_name\":\"Company\", \"job_type\":\"Job_Type\", \"job_salary\":\"Salary\"}, inplace=True)\n",
    "df_jobs2[\"Description\"] = np.nan\n",
    "df_jobs2.info()"
   ],
   "id": "41f4454ce3603a45",
   "outputs": [
    {
     "name": "stdout",
     "output_type": "stream",
     "text": [
      "<class 'pandas.core.frame.DataFrame'>\n",
      "RangeIndex: 0 entries\n",
      "Data columns (total 7 columns):\n",
      " #   Column           Non-Null Count  Dtype  \n",
      "---  ------           --------------  -----  \n",
      " 0   Title            0 non-null      object \n",
      " 1   Location         0 non-null      object \n",
      " 2   Company          0 non-null      object \n",
      " 3   Job_Type         0 non-null      object \n",
      " 4   job_description  0 non-null      object \n",
      " 5   Salary           0 non-null      object \n",
      " 6   Description      0 non-null      float64\n",
      "dtypes: float64(1), object(6)\n",
      "memory usage: 132.0+ bytes\n"
     ]
    }
   ],
   "execution_count": 128
  },
  {
   "metadata": {
    "ExecuteTime": {
     "end_time": "2025-05-20T16:54:41.570140Z",
     "start_time": "2025-05-20T16:54:41.557596Z"
    }
   },
   "cell_type": "code",
   "source": [
    "df_glassdoor07 = pd.read_csv(\"../Data/raw/GlassdoorPull-2025-01-07.csv\")\n",
    "df_glassdoor07[\"Job_Type\"] = np.nan\n",
    "df_glassdoor07[\"Company\"] = np.nan\n",
    "df_glassdoor07.drop([\"ID\"], axis=1, inplace=True)\n",
    "df_glassdoor07.info()"
   ],
   "id": "7861e668d9020793",
   "outputs": [
    {
     "name": "stdout",
     "output_type": "stream",
     "text": [
      "<class 'pandas.core.frame.DataFrame'>\n",
      "RangeIndex: 120 entries, 0 to 119\n",
      "Data columns (total 7 columns):\n",
      " #   Column       Non-Null Count  Dtype  \n",
      "---  ------       --------------  -----  \n",
      " 0   Unnamed: 0   120 non-null    int64  \n",
      " 1   Title        120 non-null    object \n",
      " 2   Location     120 non-null    object \n",
      " 3   Salary       95 non-null     object \n",
      " 4   Description  120 non-null    object \n",
      " 5   Job_Type     0 non-null      float64\n",
      " 6   Company      0 non-null      float64\n",
      "dtypes: float64(2), int64(1), object(4)\n",
      "memory usage: 6.7+ KB\n"
     ]
    }
   ],
   "execution_count": 129
  },
  {
   "metadata": {
    "ExecuteTime": {
     "end_time": "2025-05-20T16:54:41.611919Z",
     "start_time": "2025-05-20T16:54:41.601119Z"
    }
   },
   "cell_type": "code",
   "source": [
    "df_glassdoor14 = pd.read_csv(\"../Data/raw/GlassdoorPull-2025-01-14.csv\")\n",
    "df_glassdoor14[\"Job_Type\"] = np.nan\n",
    "df_glassdoor14[\"Company\"] = np.nan\n",
    "df_glassdoor14.drop([\"ID\"], axis=1, inplace=True)\n",
    "df_glassdoor14.info()"
   ],
   "id": "4a9824553053ee78",
   "outputs": [
    {
     "name": "stdout",
     "output_type": "stream",
     "text": [
      "<class 'pandas.core.frame.DataFrame'>\n",
      "RangeIndex: 60 entries, 0 to 59\n",
      "Data columns (total 6 columns):\n",
      " #   Column       Non-Null Count  Dtype  \n",
      "---  ------       --------------  -----  \n",
      " 0   Title        39 non-null     object \n",
      " 1   Location     39 non-null     object \n",
      " 2   Salary       34 non-null     object \n",
      " 3   Description  39 non-null     object \n",
      " 4   Job_Type     0 non-null      float64\n",
      " 5   Company      0 non-null      float64\n",
      "dtypes: float64(2), object(4)\n",
      "memory usage: 2.9+ KB\n"
     ]
    }
   ],
   "execution_count": 130
  },
  {
   "metadata": {
    "ExecuteTime": {
     "end_time": "2025-05-20T16:54:41.656160Z",
     "start_time": "2025-05-20T16:54:41.642691Z"
    }
   },
   "cell_type": "code",
   "source": [
    "df_glassdoor15 = pd.read_csv(\"../Data/raw/GlassdoorPull-2025-01-15.csv\")\n",
    "df_glassdoor15[\"Job_Type\"] = np.nan\n",
    "df_glassdoor15[\"Company\"] = np.nan\n",
    "df_glassdoor15.drop([\"ID\"], axis=1, inplace=True)\n",
    "df_glassdoor15.info()"
   ],
   "id": "8d3a3d966e108ee4",
   "outputs": [
    {
     "name": "stdout",
     "output_type": "stream",
     "text": [
      "<class 'pandas.core.frame.DataFrame'>\n",
      "RangeIndex: 480 entries, 0 to 479\n",
      "Data columns (total 6 columns):\n",
      " #   Column       Non-Null Count  Dtype  \n",
      "---  ------       --------------  -----  \n",
      " 0   Title        480 non-null    object \n",
      " 1   Location     480 non-null    object \n",
      " 2   Salary       391 non-null    object \n",
      " 3   Description  480 non-null    object \n",
      " 4   Job_Type     0 non-null      float64\n",
      " 5   Company      0 non-null      float64\n",
      "dtypes: float64(2), object(4)\n",
      "memory usage: 22.6+ KB\n"
     ]
    }
   ],
   "execution_count": 131
  },
  {
   "metadata": {
    "ExecuteTime": {
     "end_time": "2025-05-20T16:54:41.721004Z",
     "start_time": "2025-05-20T16:54:41.686753Z"
    }
   },
   "cell_type": "code",
   "source": [
    "df_glassdoor20 = pd.read_csv(\"../Data/raw/GlassdoorPull-2025-05-20.csv\")\n",
    "df_glassdoor20[\"Job_Type\"] = np.nan\n",
    "df_glassdoor20[\"Company\"] = np.nan\n",
    "df_glassdoor20.drop([\"ID\"], axis=1, inplace=True)\n",
    "df_glassdoor20.info()"
   ],
   "id": "e4ba2e339863d0ff",
   "outputs": [
    {
     "name": "stdout",
     "output_type": "stream",
     "text": [
      "<class 'pandas.core.frame.DataFrame'>\n",
      "RangeIndex: 6385 entries, 0 to 6384\n",
      "Data columns (total 6 columns):\n",
      " #   Column       Non-Null Count  Dtype  \n",
      "---  ------       --------------  -----  \n",
      " 0   Title        6385 non-null   object \n",
      " 1   Location     6382 non-null   object \n",
      " 2   Salary       5875 non-null   object \n",
      " 3   Description  6385 non-null   object \n",
      " 4   Job_Type     0 non-null      float64\n",
      " 5   Company      0 non-null      float64\n",
      "dtypes: float64(2), object(4)\n",
      "memory usage: 299.4+ KB\n"
     ]
    }
   ],
   "execution_count": 132
  },
  {
   "metadata": {
    "ExecuteTime": {
     "end_time": "2025-05-20T16:54:41.766904Z",
     "start_time": "2025-05-20T16:54:41.754585Z"
    }
   },
   "cell_type": "code",
   "source": [
    "df_simply_hired = pd.read_csv(\"../Data/raw/simply_hired.csv\")\n",
    "df_simply_hired.drop([\"Unique Title\"], axis=1, inplace=True)\n",
    "df_simply_hired.rename(columns =  {\"Title\":\"Title\", \"Job Location\":\"Location\", \"Company Name\":\"Company\", \"Job Type\":\"Job_Type\", \"Salary\":\"Salary\"}, inplace=True)\n",
    "df_simply_hired[\"Description\"] = np.nan\n",
    "df_simply_hired.info()"
   ],
   "id": "98c41345b8b3c3b9",
   "outputs": [
    {
     "name": "stdout",
     "output_type": "stream",
     "text": [
      "<class 'pandas.core.frame.DataFrame'>\n",
      "RangeIndex: 750 entries, 0 to 749\n",
      "Data columns (total 6 columns):\n",
      " #   Column       Non-Null Count  Dtype  \n",
      "---  ------       --------------  -----  \n",
      " 0   Title        750 non-null    object \n",
      " 1   Location     750 non-null    object \n",
      " 2   Company      750 non-null    object \n",
      " 3   Job_Type     750 non-null    object \n",
      " 4   Salary       750 non-null    object \n",
      " 5   Description  0 non-null      float64\n",
      "dtypes: float64(1), object(5)\n",
      "memory usage: 35.3+ KB\n"
     ]
    }
   ],
   "execution_count": 133
  },
  {
   "metadata": {
    "ExecuteTime": {
     "end_time": "2025-05-20T16:54:41.837735Z",
     "start_time": "2025-05-20T16:54:41.827151Z"
    }
   },
   "cell_type": "code",
   "source": [
    "df_simply_hired19 = pd.read_csv(\"../Data/raw/simplyhired_output_2025-05-19_21-34-17.csv\")\n",
    "df_simply_hired19.rename(columns =  {\"Title\":\"Title\", \"Job Location\":\"Location\", \"Company Name\":\"Company\", \"Job Type\":\"Job_Type\", \"Salary\":\"Salary\"}, inplace=True)\n",
    "df_simply_hired19[\"Description\"] = np.nan\n",
    "df_simply_hired19.info()"
   ],
   "id": "ab3b73eea1dbe45",
   "outputs": [
    {
     "name": "stdout",
     "output_type": "stream",
     "text": [
      "<class 'pandas.core.frame.DataFrame'>\n",
      "RangeIndex: 560 entries, 0 to 559\n",
      "Data columns (total 6 columns):\n",
      " #   Column       Non-Null Count  Dtype  \n",
      "---  ------       --------------  -----  \n",
      " 0   Title        560 non-null    object \n",
      " 1   Location     560 non-null    object \n",
      " 2   Company      560 non-null    object \n",
      " 3   Job_Type     560 non-null    object \n",
      " 4   Salary       560 non-null    object \n",
      " 5   Description  0 non-null      float64\n",
      "dtypes: float64(1), object(5)\n",
      "memory usage: 26.4+ KB\n"
     ]
    }
   ],
   "execution_count": 134
  },
  {
   "metadata": {
    "ExecuteTime": {
     "end_time": "2025-05-20T16:54:42.401739Z",
     "start_time": "2025-05-20T16:54:41.874138Z"
    }
   },
   "cell_type": "code",
   "source": [
    "df_job_market = pd.read_csv(\"../Data/raw/job_market_list.csv\")\n",
    "df_job_market.info()"
   ],
   "id": "64294f476da1297f",
   "outputs": [
    {
     "name": "stdout",
     "output_type": "stream",
     "text": [
      "<class 'pandas.core.frame.DataFrame'>\n",
      "RangeIndex: 19058 entries, 0 to 19057\n",
      "Data columns (total 6 columns):\n",
      " #   Column       Non-Null Count  Dtype \n",
      "---  ------       --------------  ----- \n",
      " 0   Title        19058 non-null  object\n",
      " 1   Location     19058 non-null  object\n",
      " 2   Company      18578 non-null  object\n",
      " 3   Job_Type     10262 non-null  object\n",
      " 4   Salary       8996 non-null   object\n",
      " 5   Description  15342 non-null  object\n",
      "dtypes: object(6)\n",
      "memory usage: 893.5+ KB\n"
     ]
    }
   ],
   "execution_count": 135
  },
  {
   "metadata": {
    "ExecuteTime": {
     "end_time": "2025-05-20T16:54:42.828558Z",
     "start_time": "2025-05-20T16:54:42.437275Z"
    }
   },
   "cell_type": "code",
   "source": [
    "df_duplicated_jobs = pd.read_csv(\"../Data/raw/duplicated_jobs.csv\")\n",
    "df_duplicated_jobs.info()"
   ],
   "id": "3c1a83e7f176edf7",
   "outputs": [
    {
     "name": "stdout",
     "output_type": "stream",
     "text": [
      "<class 'pandas.core.frame.DataFrame'>\n",
      "RangeIndex: 15845 entries, 0 to 15844\n",
      "Data columns (total 6 columns):\n",
      " #   Column       Non-Null Count  Dtype \n",
      "---  ------       --------------  ----- \n",
      " 0   Title        15845 non-null  object\n",
      " 1   Location     15845 non-null  object\n",
      " 2   Company      15728 non-null  object\n",
      " 3   Job_Type     8468 non-null   object\n",
      " 4   Salary       7707 non-null   object\n",
      " 5   Description  12468 non-null  object\n",
      "dtypes: object(6)\n",
      "memory usage: 742.9+ KB\n"
     ]
    }
   ],
   "execution_count": 136
  },
  {
   "metadata": {
    "ExecuteTime": {
     "end_time": "2025-05-20T16:54:43.004739Z",
     "start_time": "2025-05-20T16:54:42.866775Z"
    }
   },
   "cell_type": "code",
   "source": [
    "df_dropped_dup = pd.read_csv(\"../Data/raw/dropped_duplicates.csv\")\n",
    "df_dropped_dup.info()"
   ],
   "id": "2f1c6b566197d2a4",
   "outputs": [
    {
     "name": "stdout",
     "output_type": "stream",
     "text": [
      "<class 'pandas.core.frame.DataFrame'>\n",
      "RangeIndex: 3213 entries, 0 to 3212\n",
      "Data columns (total 6 columns):\n",
      " #   Column       Non-Null Count  Dtype \n",
      "---  ------       --------------  ----- \n",
      " 0   Title        3213 non-null   object\n",
      " 1   Location     3213 non-null   object\n",
      " 2   Company      2850 non-null   object\n",
      " 3   Job_Type     1794 non-null   object\n",
      " 4   Salary       1289 non-null   object\n",
      " 5   Description  2874 non-null   object\n",
      "dtypes: object(6)\n",
      "memory usage: 150.7+ KB\n"
     ]
    }
   ],
   "execution_count": 137
  },
  {
   "metadata": {},
   "cell_type": "markdown",
   "source": [
    "### Columns:\n",
    "- Title\n",
    "- Location\n",
    "- Company\n",
    "- Job_Type\n",
    "- Salary\n",
    "- Description"
   ],
   "id": "7068c55c8aef35a0"
  },
  {
   "metadata": {},
   "cell_type": "markdown",
   "source": "### Concat the dataframes together",
   "id": "e460297197346aed"
  },
  {
   "metadata": {
    "ExecuteTime": {
     "end_time": "2025-05-20T16:54:43.016320Z",
     "start_time": "2025-05-20T16:54:43.008616Z"
    }
   },
   "cell_type": "code",
   "source": [
    "df_jobs[\"source\"] = \"df_jobs\"\n",
    "df_jobs1[\"source\"] = \"df_jobs1\"\n",
    "df_jobs2[\"source\"] = \"df_jobs2\"\n",
    "\n",
    "df_glassdoor07[\"source\"] = \"glassdoor_07\"\n",
    "df_glassdoor14[\"source\"] = \"glassdoor_14\"\n",
    "df_glassdoor15[\"source\"] = \"glassdoor_15\"\n",
    "df_glassdoor20[\"source\"] = \"glassdoor_20\"\n",
    "\n",
    "df_simply_hired[\"source\"] = \"simply_hired\"\n",
    "df_simply_hired19[\"source\"] = \"simply_hired_19\"\n",
    "\n",
    "df_job_market[\"source\"] = \"job_market\"\n",
    "df_duplicated_jobs[\"source\"] = \"duplicated_jobs\"\n",
    "df_dropped_dup[\"source\"] = \"dropped_dup\""
   ],
   "id": "b38040f46212fc96",
   "outputs": [],
   "execution_count": 138
  },
  {
   "metadata": {
    "ExecuteTime": {
     "end_time": "2025-05-20T16:54:44.729153Z",
     "start_time": "2025-05-20T16:54:43.048104Z"
    }
   },
   "cell_type": "code",
   "source": [
    "df = pd.concat([df_jobs, df_jobs1, df_jobs2, df_glassdoor07, df_glassdoor14,  df_glassdoor15, df_glassdoor20,  df_simply_hired, df_simply_hired19, df_job_market], join=\"outer\")\n",
    "df.to_csv(\"processed/job_market_data.csv\", index=False)"
   ],
   "id": "d3007604dacf3a79",
   "outputs": [],
   "execution_count": 139
  },
  {
   "metadata": {
    "ExecuteTime": {
     "end_time": "2025-05-20T16:54:44.784478Z",
     "start_time": "2025-05-20T16:54:44.764875Z"
    }
   },
   "cell_type": "code",
   "source": "df.info()",
   "id": "d3d95555bbe05619",
   "outputs": [
    {
     "name": "stdout",
     "output_type": "stream",
     "text": [
      "<class 'pandas.core.frame.DataFrame'>\n",
      "Index: 45241 entries, 0 to 19057\n",
      "Data columns (total 9 columns):\n",
      " #   Column           Non-Null Count  Dtype  \n",
      "---  ------           --------------  -----  \n",
      " 0   Title            45220 non-null  object \n",
      " 1   Location         45217 non-null  object \n",
      " 2   Company          37716 non-null  object \n",
      " 3   Job_Type         21084 non-null  object \n",
      " 4   Salary           24556 non-null  object \n",
      " 5   Description      22366 non-null  object \n",
      " 6   source           45241 non-null  object \n",
      " 7   job_description  14862 non-null  object \n",
      " 8   Unnamed: 0       120 non-null    float64\n",
      "dtypes: float64(1), object(8)\n",
      "memory usage: 3.5+ MB\n"
     ]
    }
   ],
   "execution_count": 140
  },
  {
   "metadata": {
    "ExecuteTime": {
     "end_time": "2025-05-20T16:54:44.907321Z",
     "start_time": "2025-05-20T16:54:44.858245Z"
    }
   },
   "cell_type": "code",
   "source": "df[df.duplicated()].count()",
   "id": "fa1a9151eb6edeaa",
   "outputs": [
    {
     "data": {
      "text/plain": [
       "Title              37668\n",
       "Location           37666\n",
       "Company            31609\n",
       "Job_Type           17137\n",
       "Salary             21065\n",
       "Description        18293\n",
       "source             37688\n",
       "job_description    12234\n",
       "Unnamed: 0             0\n",
       "dtype: int64"
      ]
     },
     "execution_count": 141,
     "metadata": {},
     "output_type": "execute_result"
    }
   ],
   "execution_count": 141
  },
  {
   "metadata": {
    "ExecuteTime": {
     "end_time": "2025-05-20T16:54:44.979716Z",
     "start_time": "2025-05-20T16:54:44.941638Z"
    }
   },
   "cell_type": "code",
   "source": [
    "full_duplicates = df[df.duplicated(keep=False)]\n",
    "print(f\"Full duplicate rows: {len(full_duplicates)}\")"
   ],
   "id": "d40beb78b8c423ac",
   "outputs": [
    {
     "name": "stdout",
     "output_type": "stream",
     "text": [
      "Full duplicate rows: 41105\n"
     ]
    }
   ],
   "execution_count": 142
  },
  {
   "metadata": {
    "ExecuteTime": {
     "end_time": "2025-05-20T16:54:45.053089Z",
     "start_time": "2025-05-20T16:54:45.024552Z"
    }
   },
   "cell_type": "code",
   "source": [
    "subset_cols = [\"Title\", \"Company\", \"Location\", \"Job_Type\", \"Description\"]\n",
    "duplicates_by_logic = df[df.duplicated(subset=subset_cols, keep=False)]\n",
    "print(f\"Duplicates based on key fields: {len(duplicates_by_logic)}\")"
   ],
   "id": "ec2d4224c1331ed8",
   "outputs": [
    {
     "name": "stdout",
     "output_type": "stream",
     "text": [
      "Duplicates based on key fields: 42063\n"
     ]
    }
   ],
   "execution_count": 143
  },
  {
   "metadata": {
    "ExecuteTime": {
     "end_time": "2025-05-20T16:54:45.079911Z",
     "start_time": "2025-05-20T16:54:45.073483Z"
    }
   },
   "cell_type": "code",
   "source": "len(df)",
   "id": "e7d4ee5cdff73c2c",
   "outputs": [
    {
     "data": {
      "text/plain": [
       "45241"
      ]
     },
     "execution_count": 144,
     "metadata": {},
     "output_type": "execute_result"
    }
   ],
   "execution_count": 144
  },
  {
   "metadata": {
    "ExecuteTime": {
     "end_time": "2025-05-20T16:54:45.129367Z",
     "start_time": "2025-05-20T16:54:45.116475Z"
    }
   },
   "cell_type": "code",
   "source": "duplicates_by_logic.sample(10)[[\"Title\", \"Company\", \"Location\", \"Job_Type\", \"Description\"]]",
   "id": "535ec1d9bd03a556",
   "outputs": [
    {
     "data": {
      "text/plain": [
       "                                                   Title  \\\n",
       "4480               JavaScript/SAP UI5 Developer - Mobile   \n",
       "293                           Mechanical Design Engineer   \n",
       "2203                Senior Software Engineer (Front End)   \n",
       "3287       Software Engineering Manager, Restaurant Tech   \n",
       "13546                  Azure Cloud Application Developer   \n",
       "8281   Senior Software Engineer, Analytic AI Startup ...   \n",
       "1298                    .NET Software Developer - Hybrid   \n",
       "1918                  Senior Software Engineer - Backend   \n",
       "6528                     Application & Training Engineer   \n",
       "11904                                    Layout Engineer   \n",
       "\n",
       "                                Company              Location   Job_Type  \\\n",
       "4480   Havensight Consulting Group, LLC           Chicago, IL  Full-time   \n",
       "293                      Kelly Services      Libertyville, IL        NaN   \n",
       "2203                                NaN           Chicago, IL        NaN   \n",
       "3287                                NaN           Chicago, IL        NaN   \n",
       "13546                   Mastech Digital    Niles, IL • Remote        NaN   \n",
       "8281              Focus Capital Markets         Mundelein, IL        NaN   \n",
       "1298                     Charles Schwab           Chicago, IL  Full-time   \n",
       "1918                         PRAGMATIKE  Chicago, IL • Remote        NaN   \n",
       "6528                      HSG Tech Inc.           Addison, IL  Full-time   \n",
       "11904                  Ace Metal Crafts       Bensenville, IL  Full-time   \n",
       "\n",
       "                                             Description  \n",
       "4480                                                 NaN  \n",
       "293                                                  NaN  \n",
       "2203   Own the technical design and development of cr...  \n",
       "3287   Proficiency in code refactoring, design patter...  \n",
       "13546  Mastech Digital provides digital and mainstrea...  \n",
       "8281   Focus Capital's startup AI partner closed on o...  \n",
       "1298                                                 NaN  \n",
       "1918                                                 NaN  \n",
       "6528                                                 NaN  \n",
       "11904  Salary:\\r\\nJoinan award-winning workplace of e...  "
      ],
      "text/html": [
       "<div>\n",
       "<style scoped>\n",
       "    .dataframe tbody tr th:only-of-type {\n",
       "        vertical-align: middle;\n",
       "    }\n",
       "\n",
       "    .dataframe tbody tr th {\n",
       "        vertical-align: top;\n",
       "    }\n",
       "\n",
       "    .dataframe thead th {\n",
       "        text-align: right;\n",
       "    }\n",
       "</style>\n",
       "<table border=\"1\" class=\"dataframe\">\n",
       "  <thead>\n",
       "    <tr style=\"text-align: right;\">\n",
       "      <th></th>\n",
       "      <th>Title</th>\n",
       "      <th>Company</th>\n",
       "      <th>Location</th>\n",
       "      <th>Job_Type</th>\n",
       "      <th>Description</th>\n",
       "    </tr>\n",
       "  </thead>\n",
       "  <tbody>\n",
       "    <tr>\n",
       "      <th>4480</th>\n",
       "      <td>JavaScript/SAP UI5 Developer - Mobile</td>\n",
       "      <td>Havensight Consulting Group, LLC</td>\n",
       "      <td>Chicago, IL</td>\n",
       "      <td>Full-time</td>\n",
       "      <td>NaN</td>\n",
       "    </tr>\n",
       "    <tr>\n",
       "      <th>293</th>\n",
       "      <td>Mechanical Design Engineer</td>\n",
       "      <td>Kelly Services</td>\n",
       "      <td>Libertyville, IL</td>\n",
       "      <td>NaN</td>\n",
       "      <td>NaN</td>\n",
       "    </tr>\n",
       "    <tr>\n",
       "      <th>2203</th>\n",
       "      <td>Senior Software Engineer (Front End)</td>\n",
       "      <td>NaN</td>\n",
       "      <td>Chicago, IL</td>\n",
       "      <td>NaN</td>\n",
       "      <td>Own the technical design and development of cr...</td>\n",
       "    </tr>\n",
       "    <tr>\n",
       "      <th>3287</th>\n",
       "      <td>Software Engineering Manager, Restaurant Tech</td>\n",
       "      <td>NaN</td>\n",
       "      <td>Chicago, IL</td>\n",
       "      <td>NaN</td>\n",
       "      <td>Proficiency in code refactoring, design patter...</td>\n",
       "    </tr>\n",
       "    <tr>\n",
       "      <th>13546</th>\n",
       "      <td>Azure Cloud Application Developer</td>\n",
       "      <td>Mastech Digital</td>\n",
       "      <td>Niles, IL • Remote</td>\n",
       "      <td>NaN</td>\n",
       "      <td>Mastech Digital provides digital and mainstrea...</td>\n",
       "    </tr>\n",
       "    <tr>\n",
       "      <th>8281</th>\n",
       "      <td>Senior Software Engineer, Analytic AI Startup ...</td>\n",
       "      <td>Focus Capital Markets</td>\n",
       "      <td>Mundelein, IL</td>\n",
       "      <td>NaN</td>\n",
       "      <td>Focus Capital's startup AI partner closed on o...</td>\n",
       "    </tr>\n",
       "    <tr>\n",
       "      <th>1298</th>\n",
       "      <td>.NET Software Developer - Hybrid</td>\n",
       "      <td>Charles Schwab</td>\n",
       "      <td>Chicago, IL</td>\n",
       "      <td>Full-time</td>\n",
       "      <td>NaN</td>\n",
       "    </tr>\n",
       "    <tr>\n",
       "      <th>1918</th>\n",
       "      <td>Senior Software Engineer - Backend</td>\n",
       "      <td>PRAGMATIKE</td>\n",
       "      <td>Chicago, IL • Remote</td>\n",
       "      <td>NaN</td>\n",
       "      <td>NaN</td>\n",
       "    </tr>\n",
       "    <tr>\n",
       "      <th>6528</th>\n",
       "      <td>Application &amp; Training Engineer</td>\n",
       "      <td>HSG Tech Inc.</td>\n",
       "      <td>Addison, IL</td>\n",
       "      <td>Full-time</td>\n",
       "      <td>NaN</td>\n",
       "    </tr>\n",
       "    <tr>\n",
       "      <th>11904</th>\n",
       "      <td>Layout Engineer</td>\n",
       "      <td>Ace Metal Crafts</td>\n",
       "      <td>Bensenville, IL</td>\n",
       "      <td>Full-time</td>\n",
       "      <td>Salary:\\r\\nJoinan award-winning workplace of e...</td>\n",
       "    </tr>\n",
       "  </tbody>\n",
       "</table>\n",
       "</div>"
      ]
     },
     "execution_count": 145,
     "metadata": {},
     "output_type": "execute_result"
    }
   ],
   "execution_count": 145
  },
  {
   "metadata": {
    "ExecuteTime": {
     "end_time": "2025-05-20T16:54:45.216931Z",
     "start_time": "2025-05-20T16:54:45.196689Z"
    }
   },
   "cell_type": "code",
   "source": [
    "df_looser = df.drop_duplicates(subset=[\"Title\", \"Company\", \"Location\", \"Job_Type\"], keep=\"first\")\n",
    "print(f\"Remaining rows after looser deduplication: {len(df_looser)}\")"
   ],
   "id": "c9c8224f3e9abeeb",
   "outputs": [
    {
     "name": "stdout",
     "output_type": "stream",
     "text": [
      "Remaining rows after looser deduplication: 3843\n"
     ]
    }
   ],
   "execution_count": 146
  },
  {
   "metadata": {
    "ExecuteTime": {
     "end_time": "2025-05-20T16:54:45.284318Z",
     "start_time": "2025-05-20T16:54:45.249831Z"
    }
   },
   "cell_type": "code",
   "source": [
    "# Filter to duplicated rows based on key fields\n",
    "duplicates = df[df.duplicated(subset=[\"Title\", \"Company\", \"Location\", \"Job_Type\", \"Description\"], keep=False)]\n",
    "\n",
    "# Count how many times each title appears among duplicates\n",
    "top_duplicated_titles = (\n",
    "    duplicates[\"Title\"]\n",
    "    .value_counts()\n",
    "    .head(20)  # Change number if you want more\n",
    ")\n",
    "\n",
    "print(top_duplicated_titles)"
   ],
   "id": "d0bb0435577593d8",
   "outputs": [
    {
     "name": "stdout",
     "output_type": "stream",
     "text": [
      "Title\n",
      "Senior Software Engineer                 2547\n",
      "Software Engineer                        1296\n",
      "Full Stack Developer                      647\n",
      "Full Stack Engineer                       522\n",
      "Web Developer                             516\n",
      "Data Engineer                             489\n",
      "Software Developer                        412\n",
      "Software Development Team Lead - Web      396\n",
      "Founding Software Engineer                387\n",
      "DevOps Software Engineer Intern           324\n",
      "Structural Engineer                       282\n",
      "Machine Learning Engineer                 279\n",
      "Senior Machine Learning Engineer          271\n",
      "JavaScript/SAP UI5 Developer - Mobile     270\n",
      "Resident Project Engineer 24-00677        264\n",
      "Senior Front End Developer                262\n",
      "Technical - Web Developer                 262\n",
      "Frontend Developer                        260\n",
      "C# Web Developer                          258\n",
      "Web Developer (C)                         256\n",
      "Name: count, dtype: int64\n"
     ]
    }
   ],
   "execution_count": 147
  },
  {
   "metadata": {
    "ExecuteTime": {
     "end_time": "2025-05-20T16:54:45.531678Z",
     "start_time": "2025-05-20T16:54:45.312777Z"
    }
   },
   "cell_type": "code",
   "source": [
    "top_duplicated_titles_df = top_duplicated_titles.reset_index()\n",
    "top_duplicated_titles_df.columns = [\"Title\", \"Frequency\"]\n",
    "\n",
    "import matplotlib.pyplot as plt\n",
    "\n",
    "plt.figure(figsize=(12, 6))\n",
    "top_duplicated_titles_df.plot(kind=\"barh\", x=\"Title\", y=\"Frequency\", legend=False)\n",
    "plt.title(\"Top 20 Most Duplicated Job Titles\")\n",
    "plt.xlabel(\"Number of Duplicates\")\n",
    "plt.gca().invert_yaxis()\n",
    "plt.tight_layout()\n",
    "plt.show()"
   ],
   "id": "c2bddead58947183",
   "outputs": [
    {
     "data": {
      "text/plain": [
       "<Figure size 1200x600 with 0 Axes>"
      ]
     },
     "metadata": {},
     "output_type": "display_data"
    },
    {
     "data": {
      "text/plain": [
       "<Figure size 640x480 with 1 Axes>"
      ],
      "image/png": "[encoded data removed]"
     },
     "metadata": {},
     "output_type": "display_data"
    }
   ],
   "execution_count": 148
  },
  {
   "metadata": {
    "ExecuteTime": {
     "end_time": "2025-05-20T16:54:45.601341Z",
     "start_time": "2025-05-20T16:54:45.569441Z"
    }
   },
   "cell_type": "code",
   "source": [
    "# Filter to duplicated rows based on your key fields\n",
    "duplicates = df[df.duplicated(subset=[\"Title\", \"Company\", \"Location\", \"Job_Type\", \"Description\"], keep=False)]\n",
    "\n",
    "# Count company frequency in the duplicates\n",
    "top_duplicated_companies = (\n",
    "    duplicates[\"Company\"]\n",
    "    .value_counts()\n",
    "    .head(20)  # Change number if needed\n",
    ")\n",
    "\n",
    "print(top_duplicated_companies)"
   ],
   "id": "2b11f6948eb3a559",
   "outputs": [
    {
     "name": "stdout",
     "output_type": "stream",
     "text": [
      "Company\n",
      "Uline, Inc.                                                        398\n",
      "Kranze Technology Solutions, Inc                                   380\n",
      "Motion Recruitment Partners, LLC                                   342\n",
      "Catalyst Consulting Group, Inc.                                    338\n",
      "ESPO Corporation                                                   328\n",
      "Avani Technology Solutions, Inc.                                   274\n",
      "Georgia IT Inc                                                     270\n",
      "Havensight Consulting Group, LLC                                   270\n",
      "Sterling Engineering                                               268\n",
      "Metasys Technologies                                               262\n",
      "1-800-FLOWERS.COM, INC.                                            260\n",
      "Hi-Tech Solutions                                                  260\n",
      "ULINE                                                              256\n",
      "Artech Information System LLC                                      256\n",
      "Mindteck                                                           256\n",
      "Americaneagle.com - Web Design, Development & Digital Marketing    256\n",
      "Stefanini                                                          256\n",
      "Rise25                                                             256\n",
      "blueStone                                                          254\n",
      "Databricks                                                         238\n",
      "Name: count, dtype: int64\n"
     ]
    }
   ],
   "execution_count": 149
  },
  {
   "metadata": {
    "ExecuteTime": {
     "end_time": "2025-05-20T16:54:45.809948Z",
     "start_time": "2025-05-20T16:54:45.633777Z"
    }
   },
   "cell_type": "code",
   "source": [
    "top_duplicated_companies_df = top_duplicated_companies.reset_index()\n",
    "top_duplicated_companies_df.columns = [\"Company\", \"Frequency\"]\n",
    "\n",
    "plt.figure(figsize=(12, 6))\n",
    "top_duplicated_companies_df.plot(kind=\"barh\", x=\"Company\", y=\"Frequency\", legend=False)\n",
    "plt.title(\"Top 20 Most Duplicated Companies\")\n",
    "plt.xlabel(\"Number of Duplicates\")\n",
    "plt.gca().invert_yaxis()\n",
    "plt.tight_layout()\n",
    "plt.show()"
   ],
   "id": "fee9413da96d1c98",
   "outputs": [
    {
     "data": {
      "text/plain": [
       "<Figure size 1200x600 with 0 Axes>"
      ]
     },
     "metadata": {},
     "output_type": "display_data"
    },
    {
     "data": {
      "text/plain": [
       "<Figure size 640x480 with 1 Axes>"
      ],
      "image/png": "[encoded data removed]"
     },
     "metadata": {},
     "output_type": "display_data"
    }
   ],
   "execution_count": 150
  },
  {
   "metadata": {
    "ExecuteTime": {
     "end_time": "2025-05-20T16:54:46.083311Z",
     "start_time": "2025-05-20T16:54:45.887314Z"
    }
   },
   "cell_type": "code",
   "source": "df_looser = df.drop_duplicates(subset=[\"Title\", \"Company\", \"Location\", \"Job_Type\"], keep=\"first\")",
   "id": "cbe2aceba5243eb3",
   "outputs": [],
   "execution_count": 151
  },
  {
   "metadata": {
    "ExecuteTime": {
     "end_time": "2025-05-20T16:54:46.093743Z",
     "start_time": "2025-05-20T16:54:46.083311Z"
    }
   },
   "cell_type": "code",
   "source": [
    "print(f\"Original rows: {len(df)}\")\n",
    "print(f\"Rows after looser deduplication: {len(df_looser)}\")\n",
    "print(f\"Duplicates removed: {len(df) - len(df_looser)}\")"
   ],
   "id": "a02a8f0e2639196f",
   "outputs": [
    {
     "name": "stdout",
     "output_type": "stream",
     "text": [
      "Original rows: 45241\n",
      "Rows after looser deduplication: 3843\n",
      "Duplicates removed: 41398\n"
     ]
    }
   ],
   "execution_count": 152
  },
  {
   "metadata": {
    "ExecuteTime": {
     "end_time": "2025-05-20T16:54:46.246230Z",
     "start_time": "2025-05-20T16:54:46.234337Z"
    }
   },
   "cell_type": "code",
   "source": "df_looser.info()",
   "id": "31dc85194e85b595",
   "outputs": [
    {
     "name": "stdout",
     "output_type": "stream",
     "text": [
      "<class 'pandas.core.frame.DataFrame'>\n",
      "Index: 3843 entries, 0 to 559\n",
      "Data columns (total 9 columns):\n",
      " #   Column           Non-Null Count  Dtype  \n",
      "---  ------           --------------  -----  \n",
      " 0   Title            3842 non-null   object \n",
      " 1   Location         3841 non-null   object \n",
      " 2   Company          3004 non-null   object \n",
      " 3   Job_Type         1939 non-null   object \n",
      " 4   Salary           1855 non-null   object \n",
      " 5   Description      838 non-null    object \n",
      " 6   source           3843 non-null   object \n",
      " 7   job_description  2529 non-null   object \n",
      " 8   Unnamed: 0       110 non-null    float64\n",
      "dtypes: float64(1), object(8)\n",
      "memory usage: 300.2+ KB\n"
     ]
    }
   ],
   "execution_count": 153
  },
  {
   "metadata": {
    "ExecuteTime": {
     "end_time": "2025-05-20T16:55:19.624736Z",
     "start_time": "2025-05-20T16:55:19.617306Z"
    }
   },
   "cell_type": "code",
   "source": "print(df_looser.columns.tolist())",
   "id": "4395cd0123392f8b",
   "outputs": [
    {
     "name": "stdout",
     "output_type": "stream",
     "text": [
      "['Title', 'Location', 'Company', 'Job_Type', 'Salary', 'Description', 'source', 'job_description', 'Unnamed: 0']\n"
     ]
    }
   ],
   "execution_count": 154
  },
  {
   "metadata": {
    "ExecuteTime": {
     "end_time": "2025-05-20T16:55:30.577663Z",
     "start_time": "2025-05-20T16:55:30.571662Z"
    }
   },
   "cell_type": "code",
   "source": [
    "if \"Unnamed: 0\" in df_looser.columns:\n",
    "    df_looser.drop(\"Unnamed: 0\", axis=1, inplace=True)"
   ],
   "id": "684765a3ab4ad94d",
   "outputs": [
    {
     "name": "stderr",
     "output_type": "stream",
     "text": [
      "C:\\Users\\Owner\\AppData\\Local\\Temp\\ipykernel_7812\\288387328.py:2: SettingWithCopyWarning: \n",
      "A value is trying to be set on a copy of a slice from a DataFrame\n",
      "\n",
      "See the caveats in the documentation: https://pandas.pydata.org/pandas-docs/stable/user_guide/indexing.html#returning-a-view-versus-a-copy\n",
      "  df_looser.drop(\"Unnamed: 0\", axis=1, inplace=True)\n"
     ]
    }
   ],
   "execution_count": 155
  },
  {
   "metadata": {
    "ExecuteTime": {
     "end_time": "2025-05-20T16:55:37.984074Z",
     "start_time": "2025-05-20T16:55:37.977960Z"
    }
   },
   "cell_type": "code",
   "source": "print(df_looser.columns.tolist())",
   "id": "7778c7bf4a98e9ff",
   "outputs": [
    {
     "name": "stdout",
     "output_type": "stream",
     "text": [
      "['Title', 'Location', 'Company', 'Job_Type', 'Salary', 'Description', 'source', 'job_description']\n"
     ]
    }
   ],
   "execution_count": 156
  },
  {
   "metadata": {
    "ExecuteTime": {
     "end_time": "2025-05-20T16:56:32.444612Z",
     "start_time": "2025-05-20T16:56:32.147533Z"
    }
   },
   "cell_type": "code",
   "source": "df_looser.to_csv(\"../data/processed/job_market_clean_looser.csv\", index=False)",
   "id": "cc3fe6cdfa2be8d4",
   "outputs": [],
   "execution_count": 157
  }
 ],
 "metadata": {
  "kernelspec": {
   "display_name": "Python 3",
   "language": "python",
   "name": "python3"
  },
  "language_info": {
   "codemirror_mode": {
    "name": "ipython",
    "version": 2
   },
   "file_extension": ".py",
   "mimetype": "text/x-python",
   "name": "python",
   "nbconvert_exporter": "python",
   "pygments_lexer": "ipython2",
   "version": "2.7.6"
  }
 },
 "nbformat": 4,
 "nbformat_minor": 5
}
